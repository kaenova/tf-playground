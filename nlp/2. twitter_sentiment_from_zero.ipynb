{
 "cells": [
  {
   "cell_type": "code",
   "execution_count": 1,
   "id": "0dd191f9-979d-496b-ae5a-99b789f8be7c",
   "metadata": {
    "tags": []
   },
   "outputs": [],
   "source": [
    "# Load library\n",
    "import requests\n",
    "import pandas as pd\n",
    "import tensorflow as tf\n",
    "import tensorflow_text as tf_text\n",
    "from matplotlib import pyplot as plt\n",
    "\n",
    "# Load constants\n",
    "DATA_PATH = \"data/twitter_sentiment\""
   ]
  },
  {
   "cell_type": "markdown",
   "id": "ac9be945-6b65-48a4-b49a-e1f83b5ff40e",
   "metadata": {},
   "source": [
    "# Checking Data\n",
    "\n",
    "For initial data checking, you can take a look to the raw data itself."
   ]
  },
  {
   "cell_type": "code",
   "execution_count": 2,
   "id": "de81336a-e80e-426f-806d-76e85c4302e8",
   "metadata": {
    "tags": []
   },
   "outputs": [
    {
     "data": {
      "text/html": [
       "<div>\n",
       "<style scoped>\n",
       "    .dataframe tbody tr th:only-of-type {\n",
       "        vertical-align: middle;\n",
       "    }\n",
       "\n",
       "    .dataframe tbody tr th {\n",
       "        vertical-align: top;\n",
       "    }\n",
       "\n",
       "    .dataframe thead th {\n",
       "        text-align: right;\n",
       "    }\n",
       "</style>\n",
       "<table border=\"1\" class=\"dataframe\">\n",
       "  <thead>\n",
       "    <tr style=\"text-align: right;\">\n",
       "      <th></th>\n",
       "      <th>unk_number</th>\n",
       "      <th>game</th>\n",
       "      <th>sentiment</th>\n",
       "      <th>tweet</th>\n",
       "    </tr>\n",
       "  </thead>\n",
       "  <tbody>\n",
       "    <tr>\n",
       "      <th>0</th>\n",
       "      <td>2401</td>\n",
       "      <td>Borderlands</td>\n",
       "      <td>Positive</td>\n",
       "      <td>im getting on borderlands and i will murder yo...</td>\n",
       "    </tr>\n",
       "    <tr>\n",
       "      <th>1</th>\n",
       "      <td>2401</td>\n",
       "      <td>Borderlands</td>\n",
       "      <td>Positive</td>\n",
       "      <td>I am coming to the borders and I will kill you...</td>\n",
       "    </tr>\n",
       "    <tr>\n",
       "      <th>2</th>\n",
       "      <td>2401</td>\n",
       "      <td>Borderlands</td>\n",
       "      <td>Positive</td>\n",
       "      <td>im getting on borderlands and i will kill you ...</td>\n",
       "    </tr>\n",
       "    <tr>\n",
       "      <th>3</th>\n",
       "      <td>2401</td>\n",
       "      <td>Borderlands</td>\n",
       "      <td>Positive</td>\n",
       "      <td>im coming on borderlands and i will murder you...</td>\n",
       "    </tr>\n",
       "    <tr>\n",
       "      <th>4</th>\n",
       "      <td>2401</td>\n",
       "      <td>Borderlands</td>\n",
       "      <td>Positive</td>\n",
       "      <td>im getting on borderlands 2 and i will murder ...</td>\n",
       "    </tr>\n",
       "    <tr>\n",
       "      <th>...</th>\n",
       "      <td>...</td>\n",
       "      <td>...</td>\n",
       "      <td>...</td>\n",
       "      <td>...</td>\n",
       "    </tr>\n",
       "    <tr>\n",
       "      <th>74677</th>\n",
       "      <td>9200</td>\n",
       "      <td>Nvidia</td>\n",
       "      <td>Positive</td>\n",
       "      <td>Just realized that the Windows partition of my...</td>\n",
       "    </tr>\n",
       "    <tr>\n",
       "      <th>74678</th>\n",
       "      <td>9200</td>\n",
       "      <td>Nvidia</td>\n",
       "      <td>Positive</td>\n",
       "      <td>Just realized that my Mac window partition is ...</td>\n",
       "    </tr>\n",
       "    <tr>\n",
       "      <th>74679</th>\n",
       "      <td>9200</td>\n",
       "      <td>Nvidia</td>\n",
       "      <td>Positive</td>\n",
       "      <td>Just realized the windows partition of my Mac ...</td>\n",
       "    </tr>\n",
       "    <tr>\n",
       "      <th>74680</th>\n",
       "      <td>9200</td>\n",
       "      <td>Nvidia</td>\n",
       "      <td>Positive</td>\n",
       "      <td>Just realized between the windows partition of...</td>\n",
       "    </tr>\n",
       "    <tr>\n",
       "      <th>74681</th>\n",
       "      <td>9200</td>\n",
       "      <td>Nvidia</td>\n",
       "      <td>Positive</td>\n",
       "      <td>Just like the windows partition of my Mac is l...</td>\n",
       "    </tr>\n",
       "  </tbody>\n",
       "</table>\n",
       "<p>74682 rows × 4 columns</p>\n",
       "</div>"
      ],
      "text/plain": [
       "       unk_number         game sentiment   \n",
       "0            2401  Borderlands  Positive  \\\n",
       "1            2401  Borderlands  Positive   \n",
       "2            2401  Borderlands  Positive   \n",
       "3            2401  Borderlands  Positive   \n",
       "4            2401  Borderlands  Positive   \n",
       "...           ...          ...       ...   \n",
       "74677        9200       Nvidia  Positive   \n",
       "74678        9200       Nvidia  Positive   \n",
       "74679        9200       Nvidia  Positive   \n",
       "74680        9200       Nvidia  Positive   \n",
       "74681        9200       Nvidia  Positive   \n",
       "\n",
       "                                                   tweet  \n",
       "0      im getting on borderlands and i will murder yo...  \n",
       "1      I am coming to the borders and I will kill you...  \n",
       "2      im getting on borderlands and i will kill you ...  \n",
       "3      im coming on borderlands and i will murder you...  \n",
       "4      im getting on borderlands 2 and i will murder ...  \n",
       "...                                                  ...  \n",
       "74677  Just realized that the Windows partition of my...  \n",
       "74678  Just realized that my Mac window partition is ...  \n",
       "74679  Just realized the windows partition of my Mac ...  \n",
       "74680  Just realized between the windows partition of...  \n",
       "74681  Just like the windows partition of my Mac is l...  \n",
       "\n",
       "[74682 rows x 4 columns]"
      ]
     },
     "execution_count": 2,
     "metadata": {},
     "output_type": "execute_result"
    }
   ],
   "source": [
    "df_train = pd.read_csv(f\"{DATA_PATH}/twitter_training.csv\", names=[\"unk_number\", \"game\", \"sentiment\", \"tweet\"])\n",
    "df_train"
   ]
  },
  {
   "cell_type": "code",
   "execution_count": 3,
   "id": "1658c8b7-7746-4ff1-805b-e0021f7b818d",
   "metadata": {
    "tags": []
   },
   "outputs": [
    {
     "data": {
      "text/html": [
       "<div>\n",
       "<style scoped>\n",
       "    .dataframe tbody tr th:only-of-type {\n",
       "        vertical-align: middle;\n",
       "    }\n",
       "\n",
       "    .dataframe tbody tr th {\n",
       "        vertical-align: top;\n",
       "    }\n",
       "\n",
       "    .dataframe thead th {\n",
       "        text-align: right;\n",
       "    }\n",
       "</style>\n",
       "<table border=\"1\" class=\"dataframe\">\n",
       "  <thead>\n",
       "    <tr style=\"text-align: right;\">\n",
       "      <th></th>\n",
       "      <th>unk_number</th>\n",
       "      <th>game</th>\n",
       "      <th>sentiment</th>\n",
       "      <th>tweet</th>\n",
       "    </tr>\n",
       "  </thead>\n",
       "  <tbody>\n",
       "    <tr>\n",
       "      <th>0</th>\n",
       "      <td>3364</td>\n",
       "      <td>Facebook</td>\n",
       "      <td>Irrelevant</td>\n",
       "      <td>I mentioned on Facebook that I was struggling ...</td>\n",
       "    </tr>\n",
       "    <tr>\n",
       "      <th>1</th>\n",
       "      <td>352</td>\n",
       "      <td>Amazon</td>\n",
       "      <td>Neutral</td>\n",
       "      <td>BBC News - Amazon boss Jeff Bezos rejects clai...</td>\n",
       "    </tr>\n",
       "    <tr>\n",
       "      <th>2</th>\n",
       "      <td>8312</td>\n",
       "      <td>Microsoft</td>\n",
       "      <td>Negative</td>\n",
       "      <td>@Microsoft Why do I pay for WORD when it funct...</td>\n",
       "    </tr>\n",
       "    <tr>\n",
       "      <th>3</th>\n",
       "      <td>4371</td>\n",
       "      <td>CS-GO</td>\n",
       "      <td>Negative</td>\n",
       "      <td>CSGO matchmaking is so full of closet hacking,...</td>\n",
       "    </tr>\n",
       "    <tr>\n",
       "      <th>4</th>\n",
       "      <td>4433</td>\n",
       "      <td>Google</td>\n",
       "      <td>Neutral</td>\n",
       "      <td>Now the President is slapping Americans in the...</td>\n",
       "    </tr>\n",
       "    <tr>\n",
       "      <th>...</th>\n",
       "      <td>...</td>\n",
       "      <td>...</td>\n",
       "      <td>...</td>\n",
       "      <td>...</td>\n",
       "    </tr>\n",
       "    <tr>\n",
       "      <th>995</th>\n",
       "      <td>4891</td>\n",
       "      <td>GrandTheftAuto(GTA)</td>\n",
       "      <td>Irrelevant</td>\n",
       "      <td>⭐️ Toronto is the arts and culture capital of ...</td>\n",
       "    </tr>\n",
       "    <tr>\n",
       "      <th>996</th>\n",
       "      <td>4359</td>\n",
       "      <td>CS-GO</td>\n",
       "      <td>Irrelevant</td>\n",
       "      <td>tHIS IS ACTUALLY A GOOD MOVE TOT BRING MORE VI...</td>\n",
       "    </tr>\n",
       "    <tr>\n",
       "      <th>997</th>\n",
       "      <td>2652</td>\n",
       "      <td>Borderlands</td>\n",
       "      <td>Positive</td>\n",
       "      <td>Today sucked so it’s time to drink wine n play...</td>\n",
       "    </tr>\n",
       "    <tr>\n",
       "      <th>998</th>\n",
       "      <td>8069</td>\n",
       "      <td>Microsoft</td>\n",
       "      <td>Positive</td>\n",
       "      <td>Bought a fraction of Microsoft today. Small wins.</td>\n",
       "    </tr>\n",
       "    <tr>\n",
       "      <th>999</th>\n",
       "      <td>6960</td>\n",
       "      <td>johnson&amp;johnson</td>\n",
       "      <td>Neutral</td>\n",
       "      <td>Johnson &amp; Johnson to stop selling talc baby po...</td>\n",
       "    </tr>\n",
       "  </tbody>\n",
       "</table>\n",
       "<p>1000 rows × 4 columns</p>\n",
       "</div>"
      ],
      "text/plain": [
       "     unk_number                 game   sentiment   \n",
       "0          3364             Facebook  Irrelevant  \\\n",
       "1           352               Amazon     Neutral   \n",
       "2          8312            Microsoft    Negative   \n",
       "3          4371                CS-GO    Negative   \n",
       "4          4433               Google     Neutral   \n",
       "..          ...                  ...         ...   \n",
       "995        4891  GrandTheftAuto(GTA)  Irrelevant   \n",
       "996        4359                CS-GO  Irrelevant   \n",
       "997        2652          Borderlands    Positive   \n",
       "998        8069            Microsoft    Positive   \n",
       "999        6960      johnson&johnson     Neutral   \n",
       "\n",
       "                                                 tweet  \n",
       "0    I mentioned on Facebook that I was struggling ...  \n",
       "1    BBC News - Amazon boss Jeff Bezos rejects clai...  \n",
       "2    @Microsoft Why do I pay for WORD when it funct...  \n",
       "3    CSGO matchmaking is so full of closet hacking,...  \n",
       "4    Now the President is slapping Americans in the...  \n",
       "..                                                 ...  \n",
       "995  ⭐️ Toronto is the arts and culture capital of ...  \n",
       "996  tHIS IS ACTUALLY A GOOD MOVE TOT BRING MORE VI...  \n",
       "997  Today sucked so it’s time to drink wine n play...  \n",
       "998  Bought a fraction of Microsoft today. Small wins.  \n",
       "999  Johnson & Johnson to stop selling talc baby po...  \n",
       "\n",
       "[1000 rows x 4 columns]"
      ]
     },
     "execution_count": 3,
     "metadata": {},
     "output_type": "execute_result"
    }
   ],
   "source": [
    "df_val = pd.read_csv(f\"{DATA_PATH}/twitter_validation.csv\", names=[\"unk_number\", \"game\", \"sentiment\", \"tweet\"])\n",
    "df_val"
   ]
  },
  {
   "cell_type": "markdown",
   "id": "66b2b8a6-0398-4aea-8cd7-89805d9e15c0",
   "metadata": {},
   "source": [
    "We're going to focus on sentiment and the tweet. And also we're going to drop nan value"
   ]
  },
  {
   "cell_type": "code",
   "execution_count": 4,
   "id": "71261e7d-ace2-460b-8e5e-1e934da76dfe",
   "metadata": {
    "tags": []
   },
   "outputs": [],
   "source": [
    "df_train = df_train[[\"tweet\", \"sentiment\"]]\n",
    "df_train = df_train.dropna()"
   ]
  },
  {
   "cell_type": "code",
   "execution_count": 5,
   "id": "f2d31584-7c98-4a00-a186-2cd5be284217",
   "metadata": {
    "tags": []
   },
   "outputs": [
    {
     "data": {
      "text/html": [
       "<div>\n",
       "<style scoped>\n",
       "    .dataframe tbody tr th:only-of-type {\n",
       "        vertical-align: middle;\n",
       "    }\n",
       "\n",
       "    .dataframe tbody tr th {\n",
       "        vertical-align: top;\n",
       "    }\n",
       "\n",
       "    .dataframe thead th {\n",
       "        text-align: right;\n",
       "    }\n",
       "</style>\n",
       "<table border=\"1\" class=\"dataframe\">\n",
       "  <thead>\n",
       "    <tr style=\"text-align: right;\">\n",
       "      <th></th>\n",
       "      <th>tweet</th>\n",
       "      <th>sentiment</th>\n",
       "    </tr>\n",
       "  </thead>\n",
       "  <tbody>\n",
       "    <tr>\n",
       "      <th>0</th>\n",
       "      <td>I mentioned on Facebook that I was struggling ...</td>\n",
       "      <td>Irrelevant</td>\n",
       "    </tr>\n",
       "    <tr>\n",
       "      <th>1</th>\n",
       "      <td>BBC News - Amazon boss Jeff Bezos rejects clai...</td>\n",
       "      <td>Neutral</td>\n",
       "    </tr>\n",
       "    <tr>\n",
       "      <th>2</th>\n",
       "      <td>@Microsoft Why do I pay for WORD when it funct...</td>\n",
       "      <td>Negative</td>\n",
       "    </tr>\n",
       "    <tr>\n",
       "      <th>3</th>\n",
       "      <td>CSGO matchmaking is so full of closet hacking,...</td>\n",
       "      <td>Negative</td>\n",
       "    </tr>\n",
       "    <tr>\n",
       "      <th>4</th>\n",
       "      <td>Now the President is slapping Americans in the...</td>\n",
       "      <td>Neutral</td>\n",
       "    </tr>\n",
       "    <tr>\n",
       "      <th>...</th>\n",
       "      <td>...</td>\n",
       "      <td>...</td>\n",
       "    </tr>\n",
       "    <tr>\n",
       "      <th>995</th>\n",
       "      <td>⭐️ Toronto is the arts and culture capital of ...</td>\n",
       "      <td>Irrelevant</td>\n",
       "    </tr>\n",
       "    <tr>\n",
       "      <th>996</th>\n",
       "      <td>tHIS IS ACTUALLY A GOOD MOVE TOT BRING MORE VI...</td>\n",
       "      <td>Irrelevant</td>\n",
       "    </tr>\n",
       "    <tr>\n",
       "      <th>997</th>\n",
       "      <td>Today sucked so it’s time to drink wine n play...</td>\n",
       "      <td>Positive</td>\n",
       "    </tr>\n",
       "    <tr>\n",
       "      <th>998</th>\n",
       "      <td>Bought a fraction of Microsoft today. Small wins.</td>\n",
       "      <td>Positive</td>\n",
       "    </tr>\n",
       "    <tr>\n",
       "      <th>999</th>\n",
       "      <td>Johnson &amp; Johnson to stop selling talc baby po...</td>\n",
       "      <td>Neutral</td>\n",
       "    </tr>\n",
       "  </tbody>\n",
       "</table>\n",
       "<p>1000 rows × 2 columns</p>\n",
       "</div>"
      ],
      "text/plain": [
       "                                                 tweet   sentiment\n",
       "0    I mentioned on Facebook that I was struggling ...  Irrelevant\n",
       "1    BBC News - Amazon boss Jeff Bezos rejects clai...     Neutral\n",
       "2    @Microsoft Why do I pay for WORD when it funct...    Negative\n",
       "3    CSGO matchmaking is so full of closet hacking,...    Negative\n",
       "4    Now the President is slapping Americans in the...     Neutral\n",
       "..                                                 ...         ...\n",
       "995  ⭐️ Toronto is the arts and culture capital of ...  Irrelevant\n",
       "996  tHIS IS ACTUALLY A GOOD MOVE TOT BRING MORE VI...  Irrelevant\n",
       "997  Today sucked so it’s time to drink wine n play...    Positive\n",
       "998  Bought a fraction of Microsoft today. Small wins.    Positive\n",
       "999  Johnson & Johnson to stop selling talc baby po...     Neutral\n",
       "\n",
       "[1000 rows x 2 columns]"
      ]
     },
     "execution_count": 5,
     "metadata": {},
     "output_type": "execute_result"
    }
   ],
   "source": [
    "df_val = df_val[[\"tweet\", \"sentiment\"]]\n",
    "df_val"
   ]
  },
  {
   "cell_type": "markdown",
   "id": "2faf449a-c7de-408d-80d7-ae08f19ffbc5",
   "metadata": {},
   "source": [
    "We're going to look what type of \"sentiment\" we're going to predict"
   ]
  },
  {
   "cell_type": "code",
   "execution_count": 6,
   "id": "71786588-b9b3-41e4-812e-c0a0c5ffe207",
   "metadata": {
    "tags": []
   },
   "outputs": [
    {
     "data": {
      "text/plain": [
       "array(['Positive', 'Neutral', 'Negative', 'Irrelevant'], dtype=object)"
      ]
     },
     "execution_count": 6,
     "metadata": {},
     "output_type": "execute_result"
    }
   ],
   "source": [
    "df_train[\"sentiment\"].unique()"
   ]
  },
  {
   "cell_type": "markdown",
   "id": "c1ab3d4e-4e23-43a8-a6bb-d53cabd91cdd",
   "metadata": {},
   "source": [
    "There are 4 type of \"sentiment\" we're going to predict based on tweet"
   ]
  },
  {
   "cell_type": "markdown",
   "id": "b22fe753-2f4e-4254-80ee-fbf65984888f",
   "metadata": {},
   "source": [
    "# Model creation\n",
    "\n",
    "Sekarang kita coba membuat model sendiri!. Kita akan memanfaatkan model sederhana terlebih dahulu.  \n",
    "Pada dasarnya, model machine learning hanyalah model matematika. Sehingga model tidak mengerti teks.\n",
    "Kita membutuhkan alat yang bisa merubah teks menjadi angka. Kita namakan ini Tokenizer.\n",
    "  \n",
    "Kalau pada model sebelumnya kita dapat langsung memasukana teks, itu karena tokenizernya sudah masuk ke dalam model tersebut"
   ]
  },
  {
   "cell_type": "markdown",
   "id": "44301683-e4c8-4af7-9faf-886357f4f902",
   "metadata": {},
   "source": [
    "## Tokenizer Creation (Advance) using Subword Tokenizer"
   ]
  },
  {
   "cell_type": "markdown",
   "id": "72a5d784-68c7-4fb0-a346-38f295203598",
   "metadata": {},
   "source": [
    "Kita akan menggunakan representasi angka yang pernah di buat orang. Representasi ini dibangun dari dataset Bahasa Inggris."
   ]
  },
  {
   "cell_type": "code",
   "execution_count": 7,
   "id": "5891c47c-5382-44b9-bcf2-96635e691a05",
   "metadata": {
    "tags": []
   },
   "outputs": [
    {
     "name": "stdout",
     "output_type": "stream",
     "text": [
      "[[338, 49, 208, 49, 162, 32, 15, 801, 5, 52, 49, 650, 27, 6]]\n"
     ]
    }
   ],
   "source": [
    "url = \"https://github.com/tensorflow/text/blob/master/tensorflow_text/python/ops/test_data/test_oss_model.model?raw=true\"\n",
    "sp_model = requests.get(url).content\n",
    "tokenizer = tf_text.SentencepieceTokenizer(sp_model, out_type=tf.int32)\n",
    "tokens = tokenizer.tokenize([\"What you know you can't explain, but you feel it.\"])\n",
    "print(tokens.to_list())"
   ]
  },
  {
   "cell_type": "code",
   "execution_count": 8,
   "id": "5721caca-743d-4272-a30a-2f10ee90bd84",
   "metadata": {
    "tags": []
   },
   "outputs": [
    {
     "data": {
      "text/plain": [
       "<tf.Tensor: shape=(2, 99), dtype=int32, numpy=\n",
       "array([[  9,  33,  24, 294,  12,  59, 280,  19, 135,  66, 514,  36,   9,\n",
       "         22, 460,  53,  37,  37, 343,  42, 264,  15,  25,  87, 149,  10,\n",
       "        121,  42,  11, 626,   7, 173, 313,   5, 141, 257, 153, 424,  24,\n",
       "          8, 180, 228,  75, 479,  26,   0,   8, 584,  11, 160,  15,  25,\n",
       "         16,  50,   4,   0, 165,  19,  34,  82,  34, 162,   0,  15, 138,\n",
       "         99,  14,  38,  17,   0,  13, 271,  10,  72, 347, 253,  26,  19,\n",
       "          5, 118, 333, 263,   8,   9,   0,  26,  11,   4, 180, 997,  34,\n",
       "          5,   4, 190,  83, 392, 410,   4,   0],\n",
       "       [296, 540, 381,   4, 199,  16,  63,   8,   4,  35, 104,  26,  19,\n",
       "        997, 112, 249,   8,   8,   4, 336,  16,  57,  57, 296,  16, 997,\n",
       "         21,   8,  70, 999,  16,  28,  15,   8,   4, 946,   8, 393,  84,\n",
       "         34, 646,  12, 110,  11,   4,  32,  17,  30,  53,  37,  86,  73,\n",
       "         40,  32,  80,  66,  28,   6,  28,  21,   6,  53,  46,   0, 136,\n",
       "         63,   8,   0,  19,  87,   0,  66, 193,  55,  16,   6,   6,   6,\n",
       "          0,   0,   0,   0,   0,   0,   0,   0,   0,   0,   0,   0,   0,\n",
       "          0,   0,   0,   0,   0,   0,   0,   0]])>"
      ]
     },
     "execution_count": 8,
     "metadata": {},
     "output_type": "execute_result"
    }
   ],
   "source": [
    "# Test it on our data\n",
    "text_dummy = df_val['tweet'][:2].to_list()\n",
    "tokens = tokenizer.tokenize(text_dummy)\n",
    "tokens.to_tensor()"
   ]
  },
  {
   "cell_type": "code",
   "execution_count": 9,
   "id": "84c01955-2e54-43d3-bb79-b391f88bc3eb",
   "metadata": {
    "tags": []
   },
   "outputs": [
    {
     "data": {
      "text/plain": [
       "<tf.Tensor: shape=(1,), dtype=string, numpy=array([b'<unk>'], dtype=object)>"
      ]
     },
     "execution_count": 9,
     "metadata": {},
     "output_type": "execute_result"
    }
   ],
   "source": [
    "tokenizer.id_to_string([0])"
   ]
  },
  {
   "cell_type": "code",
   "execution_count": 10,
   "id": "3e39be5d-ba33-4053-8177-35558b100eec",
   "metadata": {
    "tags": []
   },
   "outputs": [
    {
     "data": {
      "text/plain": [
       "<tf.Tensor: shape=(10, 121), dtype=int32, numpy=\n",
       "array([[  9,  33,  24, ...,   0,   0,   0],\n",
       "       [296, 540, 381, ...,   0,   0,   0],\n",
       "       [  4,   0, 431, ...,   0,   0,   0],\n",
       "       ...,\n",
       "       [  4, 204, 797, ...,   0,   0,   0],\n",
       "       [ 45,  50,   8, ...,   0,   0,   0],\n",
       "       [280, 100,   0, ...,  57, 556,   0]])>"
      ]
     },
     "execution_count": 10,
     "metadata": {},
     "output_type": "execute_result"
    }
   ],
   "source": [
    "text_dummy = df_val['tweet'][:10].to_list()\n",
    "tokens = tokenizer.tokenize(text_dummy)\n",
    "tokens.to_tensor()"
   ]
  },
  {
   "cell_type": "markdown",
   "id": "2820eefa-1f9d-4f2e-ae16-5a5b8cf663d8",
   "metadata": {},
   "source": [
    "terlihat bahwa shapenya berbeda jika menggunakan data yang lebih banyak.  \n",
    "Yang pertama memiliki shape (2, 99) dan yang kedua (10, 121).  \n",
    "Untuk nilai 2 dan 10 terlihat bahwa itu adalah jumlah teks yang dimasukkan.  \n",
    "Tetapi hasil tokenisasinya memiliki panjang yang berbeda. Ini tidak baik, kita harus menyamakan dengan menggunakan padding"
   ]
  },
  {
   "cell_type": "code",
   "execution_count": 11,
   "id": "2adb2ec1-3434-4b3b-a6fe-6f40eac578d6",
   "metadata": {
    "tags": []
   },
   "outputs": [
    {
     "data": {
      "text/plain": [
       "<tf.Tensor: shape=(10, 256), dtype=int32, numpy=\n",
       "array([[  9,  33,  24, ...,   0,   0,   0],\n",
       "       [296, 540, 381, ...,   0,   0,   0],\n",
       "       [  4,   0, 431, ...,   0,   0,   0],\n",
       "       ...,\n",
       "       [  4, 204, 797, ...,   0,   0,   0],\n",
       "       [ 45,  50,   8, ...,   0,   0,   0],\n",
       "       [280, 100,   0, ...,   0,   0,   0]])>"
      ]
     },
     "execution_count": 11,
     "metadata": {},
     "output_type": "execute_result"
    }
   ],
   "source": [
    "# Padding\n",
    "padded_tokens, _ = tf_text.pad_model_inputs(tokens, max_seq_length=256)\n",
    "padded_tokens"
   ]
  },
  {
   "cell_type": "markdown",
   "id": "c92de156-8956-4231-89cd-94ee5c7a4274",
   "metadata": {
    "tags": []
   },
   "source": [
    "Kita buat tahap pemrosesan ini menjadi layer, sehingga bisa disatukan menjadi 1 model tensorflow"
   ]
  },
  {
   "cell_type": "code",
   "execution_count": 12,
   "id": "65105004-1900-4a43-b24c-d9d28fd83213",
   "metadata": {
    "tags": []
   },
   "outputs": [],
   "source": [
    "class MyPreprocessingLayer(tf.keras.layers.Layer):\n",
    "    def __init__(self, max_length, **kwargs):\n",
    "        # Config\n",
    "        self.max_length = max_length\n",
    "\n",
    "        # Load Tokenizer\n",
    "        url = \"https://github.com/tensorflow/text/blob/master/tensorflow_text/python/ops/test_data/test_oss_model.model?raw=true\"\n",
    "        sp_model = requests.get(url).content\n",
    "        self.tokenizer = tf_text.SentencepieceTokenizer(sp_model,\n",
    "                                                        out_type=tf.int32)\n",
    "\n",
    "        super(MyPreprocessingLayer, self).__init__(**kwargs)\n",
    "\n",
    "    def call(self, inputs):\n",
    "        tokens = self.tokenizer.tokenize(inputs)\n",
    "        padded_tokens, _ = tf_text.pad_model_inputs(tokens,\n",
    "                                                    max_seq_length=self.max_length)\n",
    "        return padded_tokens\n",
    "\n",
    "    def get_config(self):\n",
    "        config = super().get_config()\n",
    "        config.update({\n",
    "            \"max_length\": self.max_length,\n",
    "        })\n",
    "        return config"
   ]
  },
  {
   "cell_type": "code",
   "execution_count": 13,
   "id": "57b7548a-614f-41f2-81c3-a99b48a5deab",
   "metadata": {
    "tags": []
   },
   "outputs": [],
   "source": [
    "preprocess = MyPreprocessingLayer(256)\n",
    "tokens = preprocess([\"hello twitter!, we're currently using TensorFlow Custom Layer\"])"
   ]
  },
  {
   "cell_type": "markdown",
   "id": "e325b25c-40e8-48a5-b09e-69fe3b9cdb89",
   "metadata": {
    "tags": []
   },
   "source": [
    "## Embedding\n",
    "\n",
    "Dari token yang dimiliki, kita ingin  setiap token memiliki \"nilai\" untuk dipelajari.  "
   ]
  },
  {
   "cell_type": "code",
   "execution_count": 14,
   "id": "a1be69b6-a957-4521-9ee7-71130fa422a2",
   "metadata": {
    "tags": []
   },
   "outputs": [
    {
     "data": {
      "text/plain": [
       "<tf.Tensor: shape=(), dtype=int32, numpy=1000>"
      ]
     },
     "execution_count": 14,
     "metadata": {},
     "output_type": "execute_result"
    }
   ],
   "source": [
    "tokenizer.vocab_size()"
   ]
  },
  {
   "cell_type": "markdown",
   "id": "30168552-f7ff-4f80-abcc-3d83bca0f5ee",
   "metadata": {},
   "source": [
    " Pada setiap token yang dimiliki (1000 macam token), menggunakan Embedding kita bisa buat menjadi 256 representasi angka"
   ]
  },
  {
   "cell_type": "code",
   "execution_count": 15,
   "id": "a575e7c8-d593-4e9d-8fed-2544f180ff85",
   "metadata": {
    "tags": []
   },
   "outputs": [],
   "source": [
    "embedding = tf.keras.layers.Embedding(tokenizer.vocab_size(), 512)"
   ]
  },
  {
   "cell_type": "code",
   "execution_count": 16,
   "id": "506c487e-303d-40af-9ccb-c8dee93d32b6",
   "metadata": {
    "tags": []
   },
   "outputs": [
    {
     "data": {
      "text/plain": [
       "<tf.Tensor: shape=(1, 256, 512), dtype=float32, numpy=\n",
       "array([[[-0.01445819, -0.01471406, -0.03019445, ..., -0.03871783,\n",
       "          0.01214311, -0.02938374],\n",
       "        [-0.03245527,  0.03770615,  0.01286599, ..., -0.00782065,\n",
       "         -0.00088071,  0.02137181],\n",
       "        [-0.02183676,  0.01546753,  0.04530854, ...,  0.04917002,\n",
       "          0.01177835, -0.03267802],\n",
       "        ...,\n",
       "        [-0.00210208,  0.00775175, -0.04681323, ..., -0.02620925,\n",
       "         -0.0398742 ,  0.04425505],\n",
       "        [-0.00210208,  0.00775175, -0.04681323, ..., -0.02620925,\n",
       "         -0.0398742 ,  0.04425505],\n",
       "        [-0.00210208,  0.00775175, -0.04681323, ..., -0.02620925,\n",
       "         -0.0398742 ,  0.04425505]]], dtype=float32)>"
      ]
     },
     "execution_count": 16,
     "metadata": {},
     "output_type": "execute_result"
    }
   ],
   "source": [
    "logits = embedding(tokens)\n",
    "logits"
   ]
  },
  {
   "cell_type": "markdown",
   "id": "8e5f61bf-ed49-4091-a269-41393764bb8c",
   "metadata": {},
   "source": [
    "## Modelling\n",
    "\n",
    "Dari nilai yang dimiliki, ini sudah mirip dengan nilai embed yang kita punya"
   ]
  },
  {
   "cell_type": "code",
   "execution_count": 17,
   "id": "b355544d-83ef-4897-bba2-e819d208957d",
   "metadata": {
    "tags": []
   },
   "outputs": [],
   "source": [
    "embed = tf.keras.models.Sequential([\n",
    "    tf.keras.layers.Input(shape=(), dtype=\"string\"),\n",
    "    MyPreprocessingLayer(256),\n",
    "    tf.keras.layers.Embedding(1000, 512)\n",
    "])"
   ]
  },
  {
   "cell_type": "code",
   "execution_count": 18,
   "id": "a0a077bf-0ef0-4cd0-9241-74737866d61b",
   "metadata": {
    "tags": []
   },
   "outputs": [
    {
     "name": "stdout",
     "output_type": "stream",
     "text": [
      "1/1 [==============================] - 0s 82ms/step\n"
     ]
    },
    {
     "data": {
      "text/plain": [
       "array([[[-0.00486523,  0.02886779, -0.04827676, ...,  0.03566139,\n",
       "          0.02338752,  0.04550095],\n",
       "        [ 0.03095976,  0.01297424, -0.02639601, ..., -0.04415597,\n",
       "         -0.02591897,  0.03411342],\n",
       "        [-0.0305589 , -0.00647451,  0.02612315, ...,  0.03946436,\n",
       "          0.04353999,  0.03334612],\n",
       "        ...,\n",
       "        [ 0.02974537, -0.01042597,  0.02931045, ...,  0.00990592,\n",
       "          0.01834259, -0.03701882],\n",
       "        [ 0.02974537, -0.01042597,  0.02931045, ...,  0.00990592,\n",
       "          0.01834259, -0.03701882],\n",
       "        [ 0.02974537, -0.01042597,  0.02931045, ...,  0.00990592,\n",
       "          0.01834259, -0.03701882]]], dtype=float32)"
      ]
     },
     "execution_count": 18,
     "metadata": {},
     "output_type": "execute_result"
    }
   ],
   "source": [
    "embed.predict([\"hello world!\"])"
   ]
  },
  {
   "cell_type": "markdown",
   "id": "b242082f-0470-4887-9a25-dcb65cbafef8",
   "metadata": {},
   "source": [
    "Sudah mirip bukan? Mirip dengan melakukan fine-tune. Kita merubah dari text menjadi angka.  \n",
    "Selanjutnya kita akan membuat modelnya."
   ]
  },
  {
   "cell_type": "code",
   "execution_count": 19,
   "id": "87254473-b982-4213-bb7a-e787374f46a4",
   "metadata": {
    "tags": []
   },
   "outputs": [],
   "source": [
    "model = tf.keras.models.Sequential([\n",
    "    embed,\n",
    "    tf.keras.layers.Flatten(),\n",
    "    tf.keras.layers.Dense(4)\n",
    "])"
   ]
  },
  {
   "cell_type": "code",
   "execution_count": 20,
   "id": "042e2eb8-9ece-4ad5-8de7-216f7a91efc6",
   "metadata": {
    "tags": []
   },
   "outputs": [
    {
     "name": "stdout",
     "output_type": "stream",
     "text": [
      "1/1 [==============================] - 0s 99ms/step\n"
     ]
    },
    {
     "data": {
      "text/plain": [
       "array([[ 0.0148985 , -0.03157995, -0.0219036 , -0.00824872]],\n",
       "      dtype=float32)"
      ]
     },
     "execution_count": 20,
     "metadata": {},
     "output_type": "execute_result"
    }
   ],
   "source": [
    "model.predict([\"hello world!\"])"
   ]
  },
  {
   "cell_type": "markdown",
   "id": "48cdd3db-7604-4be6-ae3b-1329f709509c",
   "metadata": {},
   "source": [
    "# Feature Engineering\n",
    "\n",
    "Berarti yang kita masukan ke dalam model adalah  \n",
    "text -> angka  \n",
    "  \n",
    "Maslahnya sentimen kita pada csv masih dalam bentuk tulisan. Sebelum dimasukkan ke model, kita harus mengubahnya menjadi angka"
   ]
  },
  {
   "cell_type": "code",
   "execution_count": 21,
   "id": "5358ad00-9208-4401-a046-833fadfd5eda",
   "metadata": {
    "tags": []
   },
   "outputs": [
    {
     "data": {
      "text/plain": [
       "array(['Positive', 'Neutral', 'Negative', 'Irrelevant'], dtype=object)"
      ]
     },
     "execution_count": 21,
     "metadata": {},
     "output_type": "execute_result"
    }
   ],
   "source": [
    "df_train['sentiment'].unique()"
   ]
  },
  {
   "cell_type": "code",
   "execution_count": 22,
   "id": "0812c8a8-37a7-49ca-b5a5-78898c606588",
   "metadata": {
    "tags": []
   },
   "outputs": [],
   "source": [
    "sentiment_dictionary = {\n",
    "    \"Positive\": 0,\n",
    "    \"Neutral\": 1,\n",
    "    \"Negative\": 2,\n",
    "    \"Irrelevant\": 3\n",
    "}"
   ]
  },
  {
   "cell_type": "code",
   "execution_count": 23,
   "id": "bcc6b6ca-7128-4f26-b068-19c1b409ed8f",
   "metadata": {
    "tags": []
   },
   "outputs": [
    {
     "data": {
      "text/html": [
       "<div>\n",
       "<style scoped>\n",
       "    .dataframe tbody tr th:only-of-type {\n",
       "        vertical-align: middle;\n",
       "    }\n",
       "\n",
       "    .dataframe tbody tr th {\n",
       "        vertical-align: top;\n",
       "    }\n",
       "\n",
       "    .dataframe thead th {\n",
       "        text-align: right;\n",
       "    }\n",
       "</style>\n",
       "<table border=\"1\" class=\"dataframe\">\n",
       "  <thead>\n",
       "    <tr style=\"text-align: right;\">\n",
       "      <th></th>\n",
       "      <th>tweet</th>\n",
       "      <th>sentiment</th>\n",
       "    </tr>\n",
       "  </thead>\n",
       "  <tbody>\n",
       "    <tr>\n",
       "      <th>0</th>\n",
       "      <td>im getting on borderlands and i will murder yo...</td>\n",
       "      <td>0</td>\n",
       "    </tr>\n",
       "    <tr>\n",
       "      <th>1</th>\n",
       "      <td>I am coming to the borders and I will kill you...</td>\n",
       "      <td>0</td>\n",
       "    </tr>\n",
       "    <tr>\n",
       "      <th>2</th>\n",
       "      <td>im getting on borderlands and i will kill you ...</td>\n",
       "      <td>0</td>\n",
       "    </tr>\n",
       "    <tr>\n",
       "      <th>3</th>\n",
       "      <td>im coming on borderlands and i will murder you...</td>\n",
       "      <td>0</td>\n",
       "    </tr>\n",
       "    <tr>\n",
       "      <th>4</th>\n",
       "      <td>im getting on borderlands 2 and i will murder ...</td>\n",
       "      <td>0</td>\n",
       "    </tr>\n",
       "    <tr>\n",
       "      <th>...</th>\n",
       "      <td>...</td>\n",
       "      <td>...</td>\n",
       "    </tr>\n",
       "    <tr>\n",
       "      <th>74677</th>\n",
       "      <td>Just realized that the Windows partition of my...</td>\n",
       "      <td>0</td>\n",
       "    </tr>\n",
       "    <tr>\n",
       "      <th>74678</th>\n",
       "      <td>Just realized that my Mac window partition is ...</td>\n",
       "      <td>0</td>\n",
       "    </tr>\n",
       "    <tr>\n",
       "      <th>74679</th>\n",
       "      <td>Just realized the windows partition of my Mac ...</td>\n",
       "      <td>0</td>\n",
       "    </tr>\n",
       "    <tr>\n",
       "      <th>74680</th>\n",
       "      <td>Just realized between the windows partition of...</td>\n",
       "      <td>0</td>\n",
       "    </tr>\n",
       "    <tr>\n",
       "      <th>74681</th>\n",
       "      <td>Just like the windows partition of my Mac is l...</td>\n",
       "      <td>0</td>\n",
       "    </tr>\n",
       "  </tbody>\n",
       "</table>\n",
       "<p>73996 rows × 2 columns</p>\n",
       "</div>"
      ],
      "text/plain": [
       "                                                   tweet  sentiment\n",
       "0      im getting on borderlands and i will murder yo...          0\n",
       "1      I am coming to the borders and I will kill you...          0\n",
       "2      im getting on borderlands and i will kill you ...          0\n",
       "3      im coming on borderlands and i will murder you...          0\n",
       "4      im getting on borderlands 2 and i will murder ...          0\n",
       "...                                                  ...        ...\n",
       "74677  Just realized that the Windows partition of my...          0\n",
       "74678  Just realized that my Mac window partition is ...          0\n",
       "74679  Just realized the windows partition of my Mac ...          0\n",
       "74680  Just realized between the windows partition of...          0\n",
       "74681  Just like the windows partition of my Mac is l...          0\n",
       "\n",
       "[73996 rows x 2 columns]"
      ]
     },
     "execution_count": 23,
     "metadata": {},
     "output_type": "execute_result"
    }
   ],
   "source": [
    "df_train_model = df_train.copy()\n",
    "df_train_model['sentiment'] = df_train['sentiment'].map(lambda x : sentiment_dictionary[x])\n",
    "df_train_model"
   ]
  },
  {
   "cell_type": "code",
   "execution_count": 24,
   "id": "98ffc72b-c173-4926-a840-b5e1c775d995",
   "metadata": {
    "tags": []
   },
   "outputs": [
    {
     "data": {
      "text/html": [
       "<div>\n",
       "<style scoped>\n",
       "    .dataframe tbody tr th:only-of-type {\n",
       "        vertical-align: middle;\n",
       "    }\n",
       "\n",
       "    .dataframe tbody tr th {\n",
       "        vertical-align: top;\n",
       "    }\n",
       "\n",
       "    .dataframe thead th {\n",
       "        text-align: right;\n",
       "    }\n",
       "</style>\n",
       "<table border=\"1\" class=\"dataframe\">\n",
       "  <thead>\n",
       "    <tr style=\"text-align: right;\">\n",
       "      <th></th>\n",
       "      <th>tweet</th>\n",
       "      <th>sentiment</th>\n",
       "    </tr>\n",
       "  </thead>\n",
       "  <tbody>\n",
       "    <tr>\n",
       "      <th>0</th>\n",
       "      <td>I mentioned on Facebook that I was struggling ...</td>\n",
       "      <td>3</td>\n",
       "    </tr>\n",
       "    <tr>\n",
       "      <th>1</th>\n",
       "      <td>BBC News - Amazon boss Jeff Bezos rejects clai...</td>\n",
       "      <td>1</td>\n",
       "    </tr>\n",
       "    <tr>\n",
       "      <th>2</th>\n",
       "      <td>@Microsoft Why do I pay for WORD when it funct...</td>\n",
       "      <td>2</td>\n",
       "    </tr>\n",
       "    <tr>\n",
       "      <th>3</th>\n",
       "      <td>CSGO matchmaking is so full of closet hacking,...</td>\n",
       "      <td>2</td>\n",
       "    </tr>\n",
       "    <tr>\n",
       "      <th>4</th>\n",
       "      <td>Now the President is slapping Americans in the...</td>\n",
       "      <td>1</td>\n",
       "    </tr>\n",
       "    <tr>\n",
       "      <th>...</th>\n",
       "      <td>...</td>\n",
       "      <td>...</td>\n",
       "    </tr>\n",
       "    <tr>\n",
       "      <th>995</th>\n",
       "      <td>⭐️ Toronto is the arts and culture capital of ...</td>\n",
       "      <td>3</td>\n",
       "    </tr>\n",
       "    <tr>\n",
       "      <th>996</th>\n",
       "      <td>tHIS IS ACTUALLY A GOOD MOVE TOT BRING MORE VI...</td>\n",
       "      <td>3</td>\n",
       "    </tr>\n",
       "    <tr>\n",
       "      <th>997</th>\n",
       "      <td>Today sucked so it’s time to drink wine n play...</td>\n",
       "      <td>0</td>\n",
       "    </tr>\n",
       "    <tr>\n",
       "      <th>998</th>\n",
       "      <td>Bought a fraction of Microsoft today. Small wins.</td>\n",
       "      <td>0</td>\n",
       "    </tr>\n",
       "    <tr>\n",
       "      <th>999</th>\n",
       "      <td>Johnson &amp; Johnson to stop selling talc baby po...</td>\n",
       "      <td>1</td>\n",
       "    </tr>\n",
       "  </tbody>\n",
       "</table>\n",
       "<p>1000 rows × 2 columns</p>\n",
       "</div>"
      ],
      "text/plain": [
       "                                                 tweet  sentiment\n",
       "0    I mentioned on Facebook that I was struggling ...          3\n",
       "1    BBC News - Amazon boss Jeff Bezos rejects clai...          1\n",
       "2    @Microsoft Why do I pay for WORD when it funct...          2\n",
       "3    CSGO matchmaking is so full of closet hacking,...          2\n",
       "4    Now the President is slapping Americans in the...          1\n",
       "..                                                 ...        ...\n",
       "995  ⭐️ Toronto is the arts and culture capital of ...          3\n",
       "996  tHIS IS ACTUALLY A GOOD MOVE TOT BRING MORE VI...          3\n",
       "997  Today sucked so it’s time to drink wine n play...          0\n",
       "998  Bought a fraction of Microsoft today. Small wins.          0\n",
       "999  Johnson & Johnson to stop selling talc baby po...          1\n",
       "\n",
       "[1000 rows x 2 columns]"
      ]
     },
     "execution_count": 24,
     "metadata": {},
     "output_type": "execute_result"
    }
   ],
   "source": [
    "df_val_model = df_val.copy()\n",
    "df_val_model['sentiment'] = df_val['sentiment'].map(lambda x : sentiment_dictionary[x])\n",
    "df_val_model"
   ]
  },
  {
   "cell_type": "markdown",
   "id": "eb40fa28-4f08-4f5f-ae58-d7994c830a28",
   "metadata": {},
   "source": [
    "# Model Training\n",
    "\n",
    "Nah data yang dipunya sudah sesuai dengan yang model bisa mengerti. Sekarang tinggal di train dengan loss yang disesuaikan dengan kebutuhan"
   ]
  },
  {
   "cell_type": "code",
   "execution_count": 25,
   "id": "af4825d6-7642-49fb-867b-c86a448e3055",
   "metadata": {
    "tags": []
   },
   "outputs": [],
   "source": [
    "# Hati2 untuk nilai loss, harus disesuaikan dengan data yang dipunya.\n",
    "# Kita memiliki 4 output dari model yang dibandingkan dengan 1 nilai pada dataset\n",
    "# Untuk klasifikasi\n",
    "\n",
    "# Hal yang tepat ialah menggunakan\n",
    "# https://keras.io/api/losses/probabilistic_losses/#sparsecategoricalcrossentropy-function\n",
    "# TODO: Ajari baca dokumentasi loss function keras\n",
    "model.compile(optimizer=\"adam\",\n",
    "              loss=tf.keras.losses.SparseCategoricalCrossentropy(from_logits=True),\n",
    "              metrics=['accuracy'])"
   ]
  },
  {
   "cell_type": "code",
   "execution_count": 26,
   "id": "917003c0-f9ec-4ed5-a10c-1106c0b41092",
   "metadata": {
    "tags": []
   },
   "outputs": [
    {
     "name": "stdout",
     "output_type": "stream",
     "text": [
      "Epoch 1/5\n",
      "2313/2313 [==============================] - 36s 15ms/step - loss: 1.1007 - accuracy: 0.5422 - val_loss: 0.6761 - val_accuracy: 0.7500\n",
      "Epoch 2/5\n",
      "2313/2313 [==============================] - 35s 15ms/step - loss: 0.7740 - accuracy: 0.7029 - val_loss: 0.6016 - val_accuracy: 0.7970\n",
      "Epoch 3/5\n",
      "2313/2313 [==============================] - 34s 15ms/step - loss: 0.6094 - accuracy: 0.7724 - val_loss: 0.5271 - val_accuracy: 0.8430\n",
      "Epoch 4/5\n",
      "2313/2313 [==============================] - 34s 15ms/step - loss: 0.5097 - accuracy: 0.8113 - val_loss: 0.5476 - val_accuracy: 0.8380\n",
      "Epoch 5/5\n",
      "2313/2313 [==============================] - 35s 15ms/step - loss: 0.4502 - accuracy: 0.8368 - val_loss: 0.5861 - val_accuracy: 0.8450\n"
     ]
    }
   ],
   "source": [
    "result = model.fit(\n",
    "          epochs=5,\n",
    "          x=df_train_model['tweet'].values,\n",
    "          y=df_train_model['sentiment'].values,\n",
    "          batch_size=32,\n",
    "          validation_data=(df_val_model['tweet'].values, \n",
    "                           df_val_model['sentiment'].values)\n",
    ")"
   ]
  },
  {
   "cell_type": "code",
   "execution_count": 27,
   "id": "d238abea-a6a5-4290-9b51-0561cd99ac3c",
   "metadata": {
    "tags": []
   },
   "outputs": [
    {
     "data": {
      "image/png": "[encoded data removed]",
      "text/plain": [
       "<Figure size 640x480 with 1 Axes>"
      ]
     },
     "metadata": {},
     "output_type": "display_data"
    }
   ],
   "source": [
    "plt.plot(result.history['accuracy'])\n",
    "plt.plot(result.history['val_accuracy'])\n",
    "plt.title('model accuracy')\n",
    "plt.ylabel('accuracy')\n",
    "plt.xlabel('epoch')\n",
    "plt.legend(['train', 'val'], loc='upper left')\n",
    "plt.show()"
   ]
  },
  {
   "cell_type": "code",
   "execution_count": 28,
   "id": "2dca853b-fc52-44c3-81ee-a8606111fba2",
   "metadata": {
    "tags": []
   },
   "outputs": [
    {
     "data": {
      "image/png": "[encoded data removed]",
      "text/plain": [
       "<Figure size 640x480 with 1 Axes>"
      ]
     },
     "metadata": {},
     "output_type": "display_data"
    }
   ],
   "source": [
    "plt.plot(result.history['loss'])\n",
    "plt.plot(result.history['val_loss'])\n",
    "plt.title('model loss')\n",
    "plt.ylabel('loss')\n",
    "plt.xlabel('epoch')\n",
    "plt.legend(['train', 'val'], loc='upper left')\n",
    "plt.show()"
   ]
  },
  {
   "cell_type": "markdown",
   "id": "1a3c5c17-e512-4ab2-8c31-285717a50244",
   "metadata": {},
   "source": [
    "# Saving Model"
   ]
  },
  {
   "cell_type": "code",
   "execution_count": 29,
   "id": "9db5ab79-4c0d-42cc-a2e8-e9c90bd3831d",
   "metadata": {
    "tags": []
   },
   "outputs": [],
   "source": [
    "model.save(\"from_zero_model.h5\", save_traces=False)"
   ]
  },
  {
   "cell_type": "markdown",
   "id": "d1e7d715-00bc-4c1f-909e-2145ee521e53",
   "metadata": {},
   "source": [
    "# Loading Model"
   ]
  },
  {
   "cell_type": "code",
   "execution_count": 30,
   "id": "18997260-f35d-426f-8982-9225ce4b4de1",
   "metadata": {
    "tags": []
   },
   "outputs": [],
   "source": [
    "loaded_model = tf.keras.models.load_model(\n",
    "    filepath=\"from_zero_model.h5\",\n",
    "    custom_objects={\n",
    "        \"MyPreprocessingLayer\": MyPreprocessingLayer\n",
    "    }\n",
    ")"
   ]
  },
  {
   "cell_type": "code",
   "execution_count": 32,
   "id": "46becebd-a09a-4cc3-973f-2c016acdcca6",
   "metadata": {
    "tags": []
   },
   "outputs": [
    {
     "name": "stdout",
     "output_type": "stream",
     "text": [
      "1/1 [==============================] - 0s 31ms/step\n"
     ]
    },
    {
     "data": {
      "text/plain": [
       "array([[-0.7895155 , -1.061159  ,  2.0803802 , -0.47428125]],\n",
       "      dtype=float32)"
      ]
     },
     "execution_count": 32,
     "metadata": {},
     "output_type": "execute_result"
    }
   ],
   "source": [
    "loaded_model.predict([\"You'are really bad!\"])"
   ]
  }
 ],
 "metadata": {
  "kernelspec": {
   "display_name": "Python 3 (ipykernel)",
   "language": "python",
   "name": "python3"
  },
  "language_info": {
   "codemirror_mode": {
    "name": "ipython",
    "version": 3
   },
   "file_extension": ".py",
   "mimetype": "text/x-python",
   "name": "python",
   "nbconvert_exporter": "python",
   "pygments_lexer": "ipython3",
   "version": "3.10.9"
  }
 },
 "nbformat": 4,
 "nbformat_minor": 5
}
