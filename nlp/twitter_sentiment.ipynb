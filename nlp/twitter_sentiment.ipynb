{
 "cells": [
  {
   "cell_type": "code",
   "execution_count": 1,
   "id": "0dd191f9-979d-496b-ae5a-99b789f8be7c",
   "metadata": {
    "tags": []
   },
   "outputs": [],
   "source": [
    "# Load library\n",
    "import pandas as pd\n",
    "import tensorflow as tf\n",
    "import tensorflow_hub as hub\n",
    "import tensorflow_text\n",
    "\n",
    "# Load constants\n",
    "DATA_PATH = \"data/twitter_sentiment\""
   ]
  },
  {
   "cell_type": "markdown",
   "id": "ac9be945-6b65-48a4-b49a-e1f83b5ff40e",
   "metadata": {},
   "source": [
    "# Checking Data\n",
    "\n",
    "For initial data checking, you can take a look to the raw data itself."
   ]
  },
  {
   "cell_type": "code",
   "execution_count": 2,
   "id": "de81336a-e80e-426f-806d-76e85c4302e8",
   "metadata": {
    "tags": []
   },
   "outputs": [
    {
     "data": {
      "text/html": [
       "<div>\n",
       "<style scoped>\n",
       "    .dataframe tbody tr th:only-of-type {\n",
       "        vertical-align: middle;\n",
       "    }\n",
       "\n",
       "    .dataframe tbody tr th {\n",
       "        vertical-align: top;\n",
       "    }\n",
       "\n",
       "    .dataframe thead th {\n",
       "        text-align: right;\n",
       "    }\n",
       "</style>\n",
       "<table border=\"1\" class=\"dataframe\">\n",
       "  <thead>\n",
       "    <tr style=\"text-align: right;\">\n",
       "      <th></th>\n",
       "      <th>unk_number</th>\n",
       "      <th>game</th>\n",
       "      <th>sentiment</th>\n",
       "      <th>tweet</th>\n",
       "    </tr>\n",
       "  </thead>\n",
       "  <tbody>\n",
       "    <tr>\n",
       "      <th>0</th>\n",
       "      <td>2401</td>\n",
       "      <td>Borderlands</td>\n",
       "      <td>Positive</td>\n",
       "      <td>im getting on borderlands and i will murder yo...</td>\n",
       "    </tr>\n",
       "    <tr>\n",
       "      <th>1</th>\n",
       "      <td>2401</td>\n",
       "      <td>Borderlands</td>\n",
       "      <td>Positive</td>\n",
       "      <td>I am coming to the borders and I will kill you...</td>\n",
       "    </tr>\n",
       "    <tr>\n",
       "      <th>2</th>\n",
       "      <td>2401</td>\n",
       "      <td>Borderlands</td>\n",
       "      <td>Positive</td>\n",
       "      <td>im getting on borderlands and i will kill you ...</td>\n",
       "    </tr>\n",
       "    <tr>\n",
       "      <th>3</th>\n",
       "      <td>2401</td>\n",
       "      <td>Borderlands</td>\n",
       "      <td>Positive</td>\n",
       "      <td>im coming on borderlands and i will murder you...</td>\n",
       "    </tr>\n",
       "    <tr>\n",
       "      <th>4</th>\n",
       "      <td>2401</td>\n",
       "      <td>Borderlands</td>\n",
       "      <td>Positive</td>\n",
       "      <td>im getting on borderlands 2 and i will murder ...</td>\n",
       "    </tr>\n",
       "    <tr>\n",
       "      <th>...</th>\n",
       "      <td>...</td>\n",
       "      <td>...</td>\n",
       "      <td>...</td>\n",
       "      <td>...</td>\n",
       "    </tr>\n",
       "    <tr>\n",
       "      <th>74677</th>\n",
       "      <td>9200</td>\n",
       "      <td>Nvidia</td>\n",
       "      <td>Positive</td>\n",
       "      <td>Just realized that the Windows partition of my...</td>\n",
       "    </tr>\n",
       "    <tr>\n",
       "      <th>74678</th>\n",
       "      <td>9200</td>\n",
       "      <td>Nvidia</td>\n",
       "      <td>Positive</td>\n",
       "      <td>Just realized that my Mac window partition is ...</td>\n",
       "    </tr>\n",
       "    <tr>\n",
       "      <th>74679</th>\n",
       "      <td>9200</td>\n",
       "      <td>Nvidia</td>\n",
       "      <td>Positive</td>\n",
       "      <td>Just realized the windows partition of my Mac ...</td>\n",
       "    </tr>\n",
       "    <tr>\n",
       "      <th>74680</th>\n",
       "      <td>9200</td>\n",
       "      <td>Nvidia</td>\n",
       "      <td>Positive</td>\n",
       "      <td>Just realized between the windows partition of...</td>\n",
       "    </tr>\n",
       "    <tr>\n",
       "      <th>74681</th>\n",
       "      <td>9200</td>\n",
       "      <td>Nvidia</td>\n",
       "      <td>Positive</td>\n",
       "      <td>Just like the windows partition of my Mac is l...</td>\n",
       "    </tr>\n",
       "  </tbody>\n",
       "</table>\n",
       "<p>74682 rows × 4 columns</p>\n",
       "</div>"
      ],
      "text/plain": [
       "       unk_number         game sentiment   \n",
       "0            2401  Borderlands  Positive  \\\n",
       "1            2401  Borderlands  Positive   \n",
       "2            2401  Borderlands  Positive   \n",
       "3            2401  Borderlands  Positive   \n",
       "4            2401  Borderlands  Positive   \n",
       "...           ...          ...       ...   \n",
       "74677        9200       Nvidia  Positive   \n",
       "74678        9200       Nvidia  Positive   \n",
       "74679        9200       Nvidia  Positive   \n",
       "74680        9200       Nvidia  Positive   \n",
       "74681        9200       Nvidia  Positive   \n",
       "\n",
       "                                                   tweet  \n",
       "0      im getting on borderlands and i will murder yo...  \n",
       "1      I am coming to the borders and I will kill you...  \n",
       "2      im getting on borderlands and i will kill you ...  \n",
       "3      im coming on borderlands and i will murder you...  \n",
       "4      im getting on borderlands 2 and i will murder ...  \n",
       "...                                                  ...  \n",
       "74677  Just realized that the Windows partition of my...  \n",
       "74678  Just realized that my Mac window partition is ...  \n",
       "74679  Just realized the windows partition of my Mac ...  \n",
       "74680  Just realized between the windows partition of...  \n",
       "74681  Just like the windows partition of my Mac is l...  \n",
       "\n",
       "[74682 rows x 4 columns]"
      ]
     },
     "execution_count": 2,
     "metadata": {},
     "output_type": "execute_result"
    }
   ],
   "source": [
    "df_train = pd.read_csv(f\"{DATA_PATH}/twitter_training.csv\", names=[\"unk_number\", \"game\", \"sentiment\", \"tweet\"])\n",
    "df_train"
   ]
  },
  {
   "cell_type": "code",
   "execution_count": 3,
   "id": "1658c8b7-7746-4ff1-805b-e0021f7b818d",
   "metadata": {
    "tags": []
   },
   "outputs": [
    {
     "data": {
      "text/html": [
       "<div>\n",
       "<style scoped>\n",
       "    .dataframe tbody tr th:only-of-type {\n",
       "        vertical-align: middle;\n",
       "    }\n",
       "\n",
       "    .dataframe tbody tr th {\n",
       "        vertical-align: top;\n",
       "    }\n",
       "\n",
       "    .dataframe thead th {\n",
       "        text-align: right;\n",
       "    }\n",
       "</style>\n",
       "<table border=\"1\" class=\"dataframe\">\n",
       "  <thead>\n",
       "    <tr style=\"text-align: right;\">\n",
       "      <th></th>\n",
       "      <th>unk_number</th>\n",
       "      <th>game</th>\n",
       "      <th>sentiment</th>\n",
       "      <th>tweet</th>\n",
       "    </tr>\n",
       "  </thead>\n",
       "  <tbody>\n",
       "    <tr>\n",
       "      <th>0</th>\n",
       "      <td>3364</td>\n",
       "      <td>Facebook</td>\n",
       "      <td>Irrelevant</td>\n",
       "      <td>I mentioned on Facebook that I was struggling ...</td>\n",
       "    </tr>\n",
       "    <tr>\n",
       "      <th>1</th>\n",
       "      <td>352</td>\n",
       "      <td>Amazon</td>\n",
       "      <td>Neutral</td>\n",
       "      <td>BBC News - Amazon boss Jeff Bezos rejects clai...</td>\n",
       "    </tr>\n",
       "    <tr>\n",
       "      <th>2</th>\n",
       "      <td>8312</td>\n",
       "      <td>Microsoft</td>\n",
       "      <td>Negative</td>\n",
       "      <td>@Microsoft Why do I pay for WORD when it funct...</td>\n",
       "    </tr>\n",
       "    <tr>\n",
       "      <th>3</th>\n",
       "      <td>4371</td>\n",
       "      <td>CS-GO</td>\n",
       "      <td>Negative</td>\n",
       "      <td>CSGO matchmaking is so full of closet hacking,...</td>\n",
       "    </tr>\n",
       "    <tr>\n",
       "      <th>4</th>\n",
       "      <td>4433</td>\n",
       "      <td>Google</td>\n",
       "      <td>Neutral</td>\n",
       "      <td>Now the President is slapping Americans in the...</td>\n",
       "    </tr>\n",
       "    <tr>\n",
       "      <th>...</th>\n",
       "      <td>...</td>\n",
       "      <td>...</td>\n",
       "      <td>...</td>\n",
       "      <td>...</td>\n",
       "    </tr>\n",
       "    <tr>\n",
       "      <th>995</th>\n",
       "      <td>4891</td>\n",
       "      <td>GrandTheftAuto(GTA)</td>\n",
       "      <td>Irrelevant</td>\n",
       "      <td>⭐️ Toronto is the arts and culture capital of ...</td>\n",
       "    </tr>\n",
       "    <tr>\n",
       "      <th>996</th>\n",
       "      <td>4359</td>\n",
       "      <td>CS-GO</td>\n",
       "      <td>Irrelevant</td>\n",
       "      <td>tHIS IS ACTUALLY A GOOD MOVE TOT BRING MORE VI...</td>\n",
       "    </tr>\n",
       "    <tr>\n",
       "      <th>997</th>\n",
       "      <td>2652</td>\n",
       "      <td>Borderlands</td>\n",
       "      <td>Positive</td>\n",
       "      <td>Today sucked so it’s time to drink wine n play...</td>\n",
       "    </tr>\n",
       "    <tr>\n",
       "      <th>998</th>\n",
       "      <td>8069</td>\n",
       "      <td>Microsoft</td>\n",
       "      <td>Positive</td>\n",
       "      <td>Bought a fraction of Microsoft today. Small wins.</td>\n",
       "    </tr>\n",
       "    <tr>\n",
       "      <th>999</th>\n",
       "      <td>6960</td>\n",
       "      <td>johnson&amp;johnson</td>\n",
       "      <td>Neutral</td>\n",
       "      <td>Johnson &amp; Johnson to stop selling talc baby po...</td>\n",
       "    </tr>\n",
       "  </tbody>\n",
       "</table>\n",
       "<p>1000 rows × 4 columns</p>\n",
       "</div>"
      ],
      "text/plain": [
       "     unk_number                 game   sentiment   \n",
       "0          3364             Facebook  Irrelevant  \\\n",
       "1           352               Amazon     Neutral   \n",
       "2          8312            Microsoft    Negative   \n",
       "3          4371                CS-GO    Negative   \n",
       "4          4433               Google     Neutral   \n",
       "..          ...                  ...         ...   \n",
       "995        4891  GrandTheftAuto(GTA)  Irrelevant   \n",
       "996        4359                CS-GO  Irrelevant   \n",
       "997        2652          Borderlands    Positive   \n",
       "998        8069            Microsoft    Positive   \n",
       "999        6960      johnson&johnson     Neutral   \n",
       "\n",
       "                                                 tweet  \n",
       "0    I mentioned on Facebook that I was struggling ...  \n",
       "1    BBC News - Amazon boss Jeff Bezos rejects clai...  \n",
       "2    @Microsoft Why do I pay for WORD when it funct...  \n",
       "3    CSGO matchmaking is so full of closet hacking,...  \n",
       "4    Now the President is slapping Americans in the...  \n",
       "..                                                 ...  \n",
       "995  ⭐️ Toronto is the arts and culture capital of ...  \n",
       "996  tHIS IS ACTUALLY A GOOD MOVE TOT BRING MORE VI...  \n",
       "997  Today sucked so it’s time to drink wine n play...  \n",
       "998  Bought a fraction of Microsoft today. Small wins.  \n",
       "999  Johnson & Johnson to stop selling talc baby po...  \n",
       "\n",
       "[1000 rows x 4 columns]"
      ]
     },
     "execution_count": 3,
     "metadata": {},
     "output_type": "execute_result"
    }
   ],
   "source": [
    "df_val = pd.read_csv(f\"{DATA_PATH}/twitter_validation.csv\", names=[\"unk_number\", \"game\", \"sentiment\", \"tweet\"])\n",
    "df_val"
   ]
  },
  {
   "cell_type": "markdown",
   "id": "66b2b8a6-0398-4aea-8cd7-89805d9e15c0",
   "metadata": {},
   "source": [
    "We're going to focus on sentiment and the tweet. And also we're going to drop nan value"
   ]
  },
  {
   "cell_type": "code",
   "execution_count": 4,
   "id": "71261e7d-ace2-460b-8e5e-1e934da76dfe",
   "metadata": {
    "tags": []
   },
   "outputs": [],
   "source": [
    "df_train = df_train[[\"tweet\", \"sentiment\"]]\n",
    "df_train = df_train.dropna()"
   ]
  },
  {
   "cell_type": "code",
   "execution_count": 5,
   "id": "f2d31584-7c98-4a00-a186-2cd5be284217",
   "metadata": {
    "tags": []
   },
   "outputs": [
    {
     "data": {
      "text/html": [
       "<div>\n",
       "<style scoped>\n",
       "    .dataframe tbody tr th:only-of-type {\n",
       "        vertical-align: middle;\n",
       "    }\n",
       "\n",
       "    .dataframe tbody tr th {\n",
       "        vertical-align: top;\n",
       "    }\n",
       "\n",
       "    .dataframe thead th {\n",
       "        text-align: right;\n",
       "    }\n",
       "</style>\n",
       "<table border=\"1\" class=\"dataframe\">\n",
       "  <thead>\n",
       "    <tr style=\"text-align: right;\">\n",
       "      <th></th>\n",
       "      <th>tweet</th>\n",
       "      <th>sentiment</th>\n",
       "    </tr>\n",
       "  </thead>\n",
       "  <tbody>\n",
       "    <tr>\n",
       "      <th>0</th>\n",
       "      <td>I mentioned on Facebook that I was struggling ...</td>\n",
       "      <td>Irrelevant</td>\n",
       "    </tr>\n",
       "    <tr>\n",
       "      <th>1</th>\n",
       "      <td>BBC News - Amazon boss Jeff Bezos rejects clai...</td>\n",
       "      <td>Neutral</td>\n",
       "    </tr>\n",
       "    <tr>\n",
       "      <th>2</th>\n",
       "      <td>@Microsoft Why do I pay for WORD when it funct...</td>\n",
       "      <td>Negative</td>\n",
       "    </tr>\n",
       "    <tr>\n",
       "      <th>3</th>\n",
       "      <td>CSGO matchmaking is so full of closet hacking,...</td>\n",
       "      <td>Negative</td>\n",
       "    </tr>\n",
       "    <tr>\n",
       "      <th>4</th>\n",
       "      <td>Now the President is slapping Americans in the...</td>\n",
       "      <td>Neutral</td>\n",
       "    </tr>\n",
       "    <tr>\n",
       "      <th>...</th>\n",
       "      <td>...</td>\n",
       "      <td>...</td>\n",
       "    </tr>\n",
       "    <tr>\n",
       "      <th>995</th>\n",
       "      <td>⭐️ Toronto is the arts and culture capital of ...</td>\n",
       "      <td>Irrelevant</td>\n",
       "    </tr>\n",
       "    <tr>\n",
       "      <th>996</th>\n",
       "      <td>tHIS IS ACTUALLY A GOOD MOVE TOT BRING MORE VI...</td>\n",
       "      <td>Irrelevant</td>\n",
       "    </tr>\n",
       "    <tr>\n",
       "      <th>997</th>\n",
       "      <td>Today sucked so it’s time to drink wine n play...</td>\n",
       "      <td>Positive</td>\n",
       "    </tr>\n",
       "    <tr>\n",
       "      <th>998</th>\n",
       "      <td>Bought a fraction of Microsoft today. Small wins.</td>\n",
       "      <td>Positive</td>\n",
       "    </tr>\n",
       "    <tr>\n",
       "      <th>999</th>\n",
       "      <td>Johnson &amp; Johnson to stop selling talc baby po...</td>\n",
       "      <td>Neutral</td>\n",
       "    </tr>\n",
       "  </tbody>\n",
       "</table>\n",
       "<p>1000 rows × 2 columns</p>\n",
       "</div>"
      ],
      "text/plain": [
       "                                                 tweet   sentiment\n",
       "0    I mentioned on Facebook that I was struggling ...  Irrelevant\n",
       "1    BBC News - Amazon boss Jeff Bezos rejects clai...     Neutral\n",
       "2    @Microsoft Why do I pay for WORD when it funct...    Negative\n",
       "3    CSGO matchmaking is so full of closet hacking,...    Negative\n",
       "4    Now the President is slapping Americans in the...     Neutral\n",
       "..                                                 ...         ...\n",
       "995  ⭐️ Toronto is the arts and culture capital of ...  Irrelevant\n",
       "996  tHIS IS ACTUALLY A GOOD MOVE TOT BRING MORE VI...  Irrelevant\n",
       "997  Today sucked so it’s time to drink wine n play...    Positive\n",
       "998  Bought a fraction of Microsoft today. Small wins.    Positive\n",
       "999  Johnson & Johnson to stop selling talc baby po...     Neutral\n",
       "\n",
       "[1000 rows x 2 columns]"
      ]
     },
     "execution_count": 5,
     "metadata": {},
     "output_type": "execute_result"
    }
   ],
   "source": [
    "df_val = df_val[[\"tweet\", \"sentiment\"]]\n",
    "df_val"
   ]
  },
  {
   "cell_type": "markdown",
   "id": "2faf449a-c7de-408d-80d7-ae08f19ffbc5",
   "metadata": {},
   "source": [
    "We're going to look what type of \"sentiment\" we're going to predict"
   ]
  },
  {
   "cell_type": "code",
   "execution_count": 6,
   "id": "71786588-b9b3-41e4-812e-c0a0c5ffe207",
   "metadata": {
    "tags": []
   },
   "outputs": [
    {
     "data": {
      "text/plain": [
       "array(['Positive', 'Neutral', 'Negative', 'Irrelevant'], dtype=object)"
      ]
     },
     "execution_count": 6,
     "metadata": {},
     "output_type": "execute_result"
    }
   ],
   "source": [
    "df_train[\"sentiment\"].unique()"
   ]
  },
  {
   "cell_type": "markdown",
   "id": "c1ab3d4e-4e23-43a8-a6bb-d53cabd91cdd",
   "metadata": {},
   "source": [
    "There are 4 type of \"sentiment\" we're going to predict based on tweet"
   ]
  },
  {
   "cell_type": "markdown",
   "id": "b22fe753-2f4e-4254-80ee-fbf65984888f",
   "metadata": {},
   "source": [
    "# Model creation\n",
    "For creating model you can choose 2 type of model. You can create from 0 or create using someone's model and specifying to our own problem (fine-tuning)  \n",
    "In this case we're going to use fine tuning method instead.\n",
    "\n",
    "In later cases you probably will use TFHub or Transformers library for fine-tuning.\n",
    "Jika menggunakan TFHub, kalian bisa melihat cara penggunaannya"
   ]
  },
  {
   "cell_type": "markdown",
   "id": "30757905-e13e-4be5-b08b-b8f3d8bbcca3",
   "metadata": {},
   "source": [
    "Kita akan menggunakan model yang telah dibuat seseorang dari link TFHub https://tfhub.dev/google/universal-sentence-encoder-multilingual/3"
   ]
  },
  {
   "cell_type": "code",
   "execution_count": 7,
   "id": "a52301dd-98aa-4378-ab11-54eb39844779",
   "metadata": {},
   "outputs": [],
   "source": [
    "embed = hub.KerasLayer(\"https://tfhub.dev/google/universal-sentence-encoder-multilingual/3\", trainable=False)"
   ]
  },
  {
   "cell_type": "code",
   "execution_count": 8,
   "id": "c9b02ee1-b935-4704-b5e0-c73a6fbadb49",
   "metadata": {},
   "outputs": [
    {
     "data": {
      "text/plain": [
       "TensorShape([2, 512])"
      ]
     },
     "execution_count": 8,
     "metadata": {},
     "output_type": "execute_result"
    }
   ],
   "source": [
    "embed([\"halo\", \"semua\"]).shape"
   ]
  },
  {
   "cell_type": "markdown",
   "id": "1a8548bd-3ffd-4a29-bfdd-be825a722ffe",
   "metadata": {},
   "source": [
    "Dari hasil percobaan dimasukkan suatu kata, kita bisa tahu bahwa akan diberikan data berukutan 512 dari setiap kata."
   ]
  },
  {
   "cell_type": "code",
   "execution_count": 9,
   "id": "35cecaa7-64a3-478b-b28d-7b858ddcb37e",
   "metadata": {
    "tags": []
   },
   "outputs": [
    {
     "data": {
      "text/plain": [
       "TensorShape([1, 512])"
      ]
     },
     "execution_count": 9,
     "metadata": {},
     "output_type": "execute_result"
    }
   ],
   "source": [
    "embed([\"halo nama saya kaenova\"]).shape"
   ]
  },
  {
   "cell_type": "markdown",
   "id": "1637ebb1-50bf-42e4-9ee6-e99a887c8596",
   "metadata": {},
   "source": [
    "Pada kalimat pun akan diberikan data berukuran 512"
   ]
  },
  {
   "cell_type": "markdown",
   "id": "38d65c27-3589-4702-abc0-4021fa0df937",
   "metadata": {},
   "source": [
    "Kita akan menggunakan model embed ini untuk mengubah kalimat menjadi suatu data yang berukuran 512 dan disesuaikan dengan permasalahan yang dimiliki. \n",
    "Pada kasus ini, kita harus mengklasifikasi ke 4 kategori"
   ]
  },
  {
   "cell_type": "code",
   "execution_count": 10,
   "id": "c9eb56a8-87fa-4999-a768-547fab83ffb4",
   "metadata": {
    "tags": []
   },
   "outputs": [],
   "source": [
    "# Dari 512 -> 4\n",
    "classification_head = tf.keras.layers.Dense(4, input_shape=(512,))"
   ]
  },
  {
   "cell_type": "markdown",
   "id": "78a250f0-27b7-44db-8570-2a430066d354",
   "metadata": {},
   "source": [
    "Kita coba gabungkan embed dan classification_head"
   ]
  },
  {
   "cell_type": "code",
   "execution_count": 11,
   "id": "355c084d-891f-4e21-8a18-63c3fbb7c0c1",
   "metadata": {
    "tags": []
   },
   "outputs": [
    {
     "data": {
      "text/plain": [
       "<tf.Tensor: shape=(1, 4), dtype=float32, numpy=array([[0.00657169, 0.10108936, 0.03909671, 0.0846651 ]], dtype=float32)>"
      ]
     },
     "execution_count": 11,
     "metadata": {},
     "output_type": "execute_result"
    }
   ],
   "source": [
    "x = [\"halo nama saya kaenova\"]\n",
    "x = embed(x)\n",
    "x = classification_head(x)\n",
    "x"
   ]
  },
  {
   "cell_type": "markdown",
   "id": "e5afc06e-ac47-4f5e-b58f-86af662d8c62",
   "metadata": {},
   "source": [
    "Jadi dehhh untuk percobaan modelnya. Sekarang kita harus wrap ini ke dalam model baru"
   ]
  },
  {
   "cell_type": "code",
   "execution_count": 12,
   "id": "8194f5be-021c-439a-8412-473f56fe3e54",
   "metadata": {
    "tags": []
   },
   "outputs": [],
   "source": [
    "# Buat model akhir\n",
    "model = tf.keras.Sequential([\n",
    "    embed,\n",
    "    classification_head\n",
    "])"
   ]
  },
  {
   "cell_type": "code",
   "execution_count": 13,
   "id": "38997e62-919d-48d5-9927-5607b88ff6af",
   "metadata": {
    "tags": []
   },
   "outputs": [
    {
     "name": "stdout",
     "output_type": "stream",
     "text": [
      "WARNING:tensorflow:Layers in a Sequential model should only have a single input tensor. Received: inputs=['halo kak kae!', 'bro help me']. Consider rewriting this model with the Functional API.\n"
     ]
    },
    {
     "name": "stderr",
     "output_type": "stream",
     "text": [
      "WARNING:tensorflow:Layers in a Sequential model should only have a single input tensor. Received: inputs=['halo kak kae!', 'bro help me']. Consider rewriting this model with the Functional API.\n"
     ]
    },
    {
     "data": {
      "text/plain": [
       "<tf.Tensor: shape=(2, 4), dtype=float32, numpy=\n",
       "array([[-0.05643825,  0.04471326, -0.01465607,  0.03812785],\n",
       "       [-0.03114427,  0.00118975,  0.07174732,  0.09019516]],\n",
       "      dtype=float32)>"
      ]
     },
     "execution_count": 13,
     "metadata": {},
     "output_type": "execute_result"
    }
   ],
   "source": [
    "# Kita coba sekarang\n",
    "model([\"halo kak kae!\", \"bro help me\"])"
   ]
  },
  {
   "cell_type": "markdown",
   "id": "48cdd3db-7604-4be6-ae3b-1329f709509c",
   "metadata": {},
   "source": [
    "# Feature Engineering\n",
    "\n",
    "Berarti yang kita masukan ke dalam model adalah  \n",
    "text -> angka  \n",
    "  \n",
    "Maslahnya sentimen kita pada csv masih dalam bentuk tulisan. Sebelum dimasukkan ke model, kita harus mengubahnya menjadi angka"
   ]
  },
  {
   "cell_type": "code",
   "execution_count": 14,
   "id": "5358ad00-9208-4401-a046-833fadfd5eda",
   "metadata": {
    "tags": []
   },
   "outputs": [
    {
     "data": {
      "text/plain": [
       "array(['Positive', 'Neutral', 'Negative', 'Irrelevant'], dtype=object)"
      ]
     },
     "execution_count": 14,
     "metadata": {},
     "output_type": "execute_result"
    }
   ],
   "source": [
    "df_train['sentiment'].unique()"
   ]
  },
  {
   "cell_type": "code",
   "execution_count": 15,
   "id": "0812c8a8-37a7-49ca-b5a5-78898c606588",
   "metadata": {
    "tags": []
   },
   "outputs": [],
   "source": [
    "sentiment_dictionary = {\n",
    "    \"Positive\": 0,\n",
    "    \"Neutral\": 1,\n",
    "    \"Negative\": 2,\n",
    "    \"Irrelevant\": 3\n",
    "}"
   ]
  },
  {
   "cell_type": "code",
   "execution_count": 16,
   "id": "bcc6b6ca-7128-4f26-b068-19c1b409ed8f",
   "metadata": {
    "tags": []
   },
   "outputs": [
    {
     "data": {
      "text/html": [
       "<div>\n",
       "<style scoped>\n",
       "    .dataframe tbody tr th:only-of-type {\n",
       "        vertical-align: middle;\n",
       "    }\n",
       "\n",
       "    .dataframe tbody tr th {\n",
       "        vertical-align: top;\n",
       "    }\n",
       "\n",
       "    .dataframe thead th {\n",
       "        text-align: right;\n",
       "    }\n",
       "</style>\n",
       "<table border=\"1\" class=\"dataframe\">\n",
       "  <thead>\n",
       "    <tr style=\"text-align: right;\">\n",
       "      <th></th>\n",
       "      <th>tweet</th>\n",
       "      <th>sentiment</th>\n",
       "    </tr>\n",
       "  </thead>\n",
       "  <tbody>\n",
       "    <tr>\n",
       "      <th>0</th>\n",
       "      <td>im getting on borderlands and i will murder yo...</td>\n",
       "      <td>0</td>\n",
       "    </tr>\n",
       "    <tr>\n",
       "      <th>1</th>\n",
       "      <td>I am coming to the borders and I will kill you...</td>\n",
       "      <td>0</td>\n",
       "    </tr>\n",
       "    <tr>\n",
       "      <th>2</th>\n",
       "      <td>im getting on borderlands and i will kill you ...</td>\n",
       "      <td>0</td>\n",
       "    </tr>\n",
       "    <tr>\n",
       "      <th>3</th>\n",
       "      <td>im coming on borderlands and i will murder you...</td>\n",
       "      <td>0</td>\n",
       "    </tr>\n",
       "    <tr>\n",
       "      <th>4</th>\n",
       "      <td>im getting on borderlands 2 and i will murder ...</td>\n",
       "      <td>0</td>\n",
       "    </tr>\n",
       "    <tr>\n",
       "      <th>...</th>\n",
       "      <td>...</td>\n",
       "      <td>...</td>\n",
       "    </tr>\n",
       "    <tr>\n",
       "      <th>74677</th>\n",
       "      <td>Just realized that the Windows partition of my...</td>\n",
       "      <td>0</td>\n",
       "    </tr>\n",
       "    <tr>\n",
       "      <th>74678</th>\n",
       "      <td>Just realized that my Mac window partition is ...</td>\n",
       "      <td>0</td>\n",
       "    </tr>\n",
       "    <tr>\n",
       "      <th>74679</th>\n",
       "      <td>Just realized the windows partition of my Mac ...</td>\n",
       "      <td>0</td>\n",
       "    </tr>\n",
       "    <tr>\n",
       "      <th>74680</th>\n",
       "      <td>Just realized between the windows partition of...</td>\n",
       "      <td>0</td>\n",
       "    </tr>\n",
       "    <tr>\n",
       "      <th>74681</th>\n",
       "      <td>Just like the windows partition of my Mac is l...</td>\n",
       "      <td>0</td>\n",
       "    </tr>\n",
       "  </tbody>\n",
       "</table>\n",
       "<p>73996 rows × 2 columns</p>\n",
       "</div>"
      ],
      "text/plain": [
       "                                                   tweet  sentiment\n",
       "0      im getting on borderlands and i will murder yo...          0\n",
       "1      I am coming to the borders and I will kill you...          0\n",
       "2      im getting on borderlands and i will kill you ...          0\n",
       "3      im coming on borderlands and i will murder you...          0\n",
       "4      im getting on borderlands 2 and i will murder ...          0\n",
       "...                                                  ...        ...\n",
       "74677  Just realized that the Windows partition of my...          0\n",
       "74678  Just realized that my Mac window partition is ...          0\n",
       "74679  Just realized the windows partition of my Mac ...          0\n",
       "74680  Just realized between the windows partition of...          0\n",
       "74681  Just like the windows partition of my Mac is l...          0\n",
       "\n",
       "[73996 rows x 2 columns]"
      ]
     },
     "execution_count": 16,
     "metadata": {},
     "output_type": "execute_result"
    }
   ],
   "source": [
    "df_train_model = df_train.copy()\n",
    "df_train_model['sentiment'] = df_train['sentiment'].map(lambda x : sentiment_dictionary[x])\n",
    "df_train_model"
   ]
  },
  {
   "cell_type": "code",
   "execution_count": 17,
   "id": "98ffc72b-c173-4926-a840-b5e1c775d995",
   "metadata": {
    "tags": []
   },
   "outputs": [
    {
     "data": {
      "text/html": [
       "<div>\n",
       "<style scoped>\n",
       "    .dataframe tbody tr th:only-of-type {\n",
       "        vertical-align: middle;\n",
       "    }\n",
       "\n",
       "    .dataframe tbody tr th {\n",
       "        vertical-align: top;\n",
       "    }\n",
       "\n",
       "    .dataframe thead th {\n",
       "        text-align: right;\n",
       "    }\n",
       "</style>\n",
       "<table border=\"1\" class=\"dataframe\">\n",
       "  <thead>\n",
       "    <tr style=\"text-align: right;\">\n",
       "      <th></th>\n",
       "      <th>tweet</th>\n",
       "      <th>sentiment</th>\n",
       "    </tr>\n",
       "  </thead>\n",
       "  <tbody>\n",
       "    <tr>\n",
       "      <th>0</th>\n",
       "      <td>I mentioned on Facebook that I was struggling ...</td>\n",
       "      <td>3</td>\n",
       "    </tr>\n",
       "    <tr>\n",
       "      <th>1</th>\n",
       "      <td>BBC News - Amazon boss Jeff Bezos rejects clai...</td>\n",
       "      <td>1</td>\n",
       "    </tr>\n",
       "    <tr>\n",
       "      <th>2</th>\n",
       "      <td>@Microsoft Why do I pay for WORD when it funct...</td>\n",
       "      <td>2</td>\n",
       "    </tr>\n",
       "    <tr>\n",
       "      <th>3</th>\n",
       "      <td>CSGO matchmaking is so full of closet hacking,...</td>\n",
       "      <td>2</td>\n",
       "    </tr>\n",
       "    <tr>\n",
       "      <th>4</th>\n",
       "      <td>Now the President is slapping Americans in the...</td>\n",
       "      <td>1</td>\n",
       "    </tr>\n",
       "    <tr>\n",
       "      <th>...</th>\n",
       "      <td>...</td>\n",
       "      <td>...</td>\n",
       "    </tr>\n",
       "    <tr>\n",
       "      <th>995</th>\n",
       "      <td>⭐️ Toronto is the arts and culture capital of ...</td>\n",
       "      <td>3</td>\n",
       "    </tr>\n",
       "    <tr>\n",
       "      <th>996</th>\n",
       "      <td>tHIS IS ACTUALLY A GOOD MOVE TOT BRING MORE VI...</td>\n",
       "      <td>3</td>\n",
       "    </tr>\n",
       "    <tr>\n",
       "      <th>997</th>\n",
       "      <td>Today sucked so it’s time to drink wine n play...</td>\n",
       "      <td>0</td>\n",
       "    </tr>\n",
       "    <tr>\n",
       "      <th>998</th>\n",
       "      <td>Bought a fraction of Microsoft today. Small wins.</td>\n",
       "      <td>0</td>\n",
       "    </tr>\n",
       "    <tr>\n",
       "      <th>999</th>\n",
       "      <td>Johnson &amp; Johnson to stop selling talc baby po...</td>\n",
       "      <td>1</td>\n",
       "    </tr>\n",
       "  </tbody>\n",
       "</table>\n",
       "<p>1000 rows × 2 columns</p>\n",
       "</div>"
      ],
      "text/plain": [
       "                                                 tweet  sentiment\n",
       "0    I mentioned on Facebook that I was struggling ...          3\n",
       "1    BBC News - Amazon boss Jeff Bezos rejects clai...          1\n",
       "2    @Microsoft Why do I pay for WORD when it funct...          2\n",
       "3    CSGO matchmaking is so full of closet hacking,...          2\n",
       "4    Now the President is slapping Americans in the...          1\n",
       "..                                                 ...        ...\n",
       "995  ⭐️ Toronto is the arts and culture capital of ...          3\n",
       "996  tHIS IS ACTUALLY A GOOD MOVE TOT BRING MORE VI...          3\n",
       "997  Today sucked so it’s time to drink wine n play...          0\n",
       "998  Bought a fraction of Microsoft today. Small wins.          0\n",
       "999  Johnson & Johnson to stop selling talc baby po...          1\n",
       "\n",
       "[1000 rows x 2 columns]"
      ]
     },
     "execution_count": 17,
     "metadata": {},
     "output_type": "execute_result"
    }
   ],
   "source": [
    "df_val_model = df_val.copy()\n",
    "df_val_model['sentiment'] = df_val['sentiment'].map(lambda x : sentiment_dictionary[x])\n",
    "df_val_model"
   ]
  },
  {
   "cell_type": "markdown",
   "id": "eb40fa28-4f08-4f5f-ae58-d7994c830a28",
   "metadata": {},
   "source": [
    "# Model Training\n",
    "\n",
    "Nah data yang dipunya sudah sesuai dengan yang model bisa mengerti. Sekarang tinggal di train dengan loss yang disesuaikan dengan kebutuhan"
   ]
  },
  {
   "cell_type": "code",
   "execution_count": 18,
   "id": "af4825d6-7642-49fb-867b-c86a448e3055",
   "metadata": {
    "tags": []
   },
   "outputs": [],
   "source": [
    "# Hati2 untuk nilai loss, harus disesuaikan dengan data yang dipunya.\n",
    "# Kita memiliki 4 output dari model yang dibandingkan dengan 1 nilai pada dataset\n",
    "# Untuk klasifikasi\n",
    "\n",
    "# Hal yang tepat ialah menggunakan\n",
    "# https://keras.io/api/losses/probabilistic_losses/#sparsecategoricalcrossentropy-function\n",
    "# TODO: Ajari baca dokumentasi loss function keras\n",
    "model.compile(optimizer=\"adam\", \n",
    "              loss=tf.keras.losses.SparseCategoricalCrossentropy(from_logits=True),\n",
    "              metrics=['accuracy'])"
   ]
  },
  {
   "cell_type": "code",
   "execution_count": 19,
   "id": "917003c0-f9ec-4ed5-a10c-1106c0b41092",
   "metadata": {
    "tags": []
   },
   "outputs": [
    {
     "name": "stdout",
     "output_type": "stream",
     "text": [
      "Epoch 1/2\n",
      "2313/2313 [==============================] - 112s 46ms/step - loss: 1.1241 - accuracy: 0.5468 - val_loss: 1.0013 - val_accuracy: 0.5830\n",
      "Epoch 2/2\n",
      "2313/2313 [==============================] - 107s 46ms/step - loss: 1.0193 - accuracy: 0.5849 - val_loss: 0.9608 - val_accuracy: 0.6070\n"
     ]
    }
   ],
   "source": [
    "result = model.fit(\n",
    "          epochs=2,\n",
    "          x=df_train_model['tweet'].values,\n",
    "          y=df_train_model['sentiment'].values,\n",
    "          batch_size=32,\n",
    "          validation_data=(df_val_model['tweet'].values, \n",
    "                           df_val_model['sentiment'].values)\n",
    ")"
   ]
  },
  {
   "cell_type": "code",
   "execution_count": 20,
   "id": "2995242b-9e7f-4716-9c8e-41a10a35a38c",
   "metadata": {
    "tags": []
   },
   "outputs": [],
   "source": [
    "# TRAINING CUMAN 2 LAYER \n",
    "# (CNN EMBEDDING LAYER WITHOUT TRAINING IT AND ONLY CLASSIFICATION HEAD) BROO"
   ]
  },
  {
   "cell_type": "markdown",
   "id": "f3113cbc-50fc-4522-8543-d52ca358bcd1",
   "metadata": {},
   "source": [
    "# Let's Change the model so it has more parameters"
   ]
  },
  {
   "cell_type": "code",
   "execution_count": 21,
   "id": "63a478b3-e043-4a3c-81c8-3d31c69ff751",
   "metadata": {
    "tags": []
   },
   "outputs": [],
   "source": [
    "# Buat model akhir\n",
    "model_new = tf.keras.Sequential([\n",
    "    embed,\n",
    "    tf.keras.layers.Dense(256, activation='relu', input_shape=(512,)),\n",
    "    tf.keras.layers.Dropout(0.5),\n",
    "    tf.keras.layers.Dense(128, activation='relu'),\n",
    "    tf.keras.layers.Dense(4)\n",
    "])\n",
    "\n",
    "model_new.compile(\n",
    "    optimizer=\"adam\",\n",
    "    loss=tf.keras.losses.SparseCategoricalCrossentropy(from_logits=True),\n",
    "    metrics=['accuracy']\n",
    ")"
   ]
  },
  {
   "cell_type": "code",
   "execution_count": 22,
   "id": "4f35a596-8539-4db4-a861-480ae89c7a35",
   "metadata": {
    "tags": []
   },
   "outputs": [
    {
     "name": "stdout",
     "output_type": "stream",
     "text": [
      "WARNING:tensorflow:Layers in a Sequential model should only have a single input tensor. Received: inputs=['test']. Consider rewriting this model with the Functional API.\n"
     ]
    },
    {
     "name": "stderr",
     "output_type": "stream",
     "text": [
      "WARNING:tensorflow:Layers in a Sequential model should only have a single input tensor. Received: inputs=['test']. Consider rewriting this model with the Functional API.\n"
     ]
    },
    {
     "data": {
      "text/plain": [
       "<tf.Tensor: shape=(1, 4), dtype=float32, numpy=array([[0.02340199, 0.02422091, 0.00795818, 0.01294736]], dtype=float32)>"
      ]
     },
     "execution_count": 22,
     "metadata": {},
     "output_type": "execute_result"
    }
   ],
   "source": [
    "model_new([\"test\"])"
   ]
  },
  {
   "cell_type": "code",
   "execution_count": 23,
   "id": "695e55e5-6e09-4042-a8a2-bcdac333d0d3",
   "metadata": {
    "tags": []
   },
   "outputs": [
    {
     "name": "stdout",
     "output_type": "stream",
     "text": [
      "Epoch 1/2\n",
      "2313/2313 [==============================] - 109s 46ms/step - loss: 0.9835 - accuracy: 0.5938 - val_loss: 0.7714 - val_accuracy: 0.6970\n",
      "Epoch 2/2\n",
      "2313/2313 [==============================] - 108s 47ms/step - loss: 0.8329 - accuracy: 0.6649 - val_loss: 0.6041 - val_accuracy: 0.7780\n"
     ]
    }
   ],
   "source": [
    "# Train for 2 epoch\n",
    "result_new = model_new.fit(\n",
    "          epochs=2,\n",
    "          x=df_train_model['tweet'].values,\n",
    "          y=df_train_model['sentiment'].values,\n",
    "          batch_size=32,\n",
    "          validation_data=(df_val_model['tweet'].values,\n",
    "                           df_val_model['sentiment'].values)\n",
    ")"
   ]
  },
  {
   "cell_type": "code",
   "execution_count": 24,
   "id": "5a23c09c-c4eb-4dcb-bc28-3a826b57723d",
   "metadata": {
    "tags": []
   },
   "outputs": [
    {
     "name": "stdout",
     "output_type": "stream",
     "text": [
      "Epoch 1/2\n",
      "2313/2313 [==============================] - 104s 45ms/step - loss: 0.7249 - accuracy: 0.7131 - val_loss: 0.4945 - val_accuracy: 0.8180\n",
      "Epoch 2/2\n",
      "2313/2313 [==============================] - 101s 44ms/step - loss: 0.6424 - accuracy: 0.7496 - val_loss: 0.4160 - val_accuracy: 0.8660\n"
     ]
    }
   ],
   "source": [
    "# Train again for antoher 2 epoch\n",
    "result_new = model_new.fit(\n",
    "          epochs=2,\n",
    "          x=df_train_model['tweet'].values,\n",
    "          y=df_train_model['sentiment'].values,\n",
    "          batch_size=32,\n",
    "          validation_data=(df_val_model['tweet'].values,\n",
    "                           df_val_model['sentiment'].values)\n",
    ")"
   ]
  },
  {
   "cell_type": "code",
   "execution_count": 25,
   "id": "e141de46-c16e-4f57-b2b7-580ec928bf69",
   "metadata": {
    "tags": []
   },
   "outputs": [
    {
     "name": "stdout",
     "output_type": "stream",
     "text": [
      "Epoch 1/2\n",
      "2313/2313 [==============================] - 102s 44ms/step - loss: 0.5836 - accuracy: 0.7699 - val_loss: 0.3741 - val_accuracy: 0.8660\n",
      "Epoch 2/2\n",
      "2313/2313 [==============================] - 101s 44ms/step - loss: 0.5417 - accuracy: 0.7882 - val_loss: 0.3374 - val_accuracy: 0.8880\n"
     ]
    }
   ],
   "source": [
    "# Train again for antoher 2 epoch\n",
    "result_new = model_new.fit(\n",
    "          epochs=2,\n",
    "          x=df_train_model['tweet'].values,\n",
    "          y=df_train_model['sentiment'].values,\n",
    "          batch_size=32,\n",
    "          validation_data=(df_val_model['tweet'].values,\n",
    "                           df_val_model['sentiment'].values)\n",
    ")"
   ]
  },
  {
   "cell_type": "code",
   "execution_count": 26,
   "id": "a2bbe653-c79a-4b53-8a72-87f13e03b95e",
   "metadata": {
    "tags": []
   },
   "outputs": [
    {
     "name": "stdout",
     "output_type": "stream",
     "text": [
      "Epoch 1/2\n",
      "2313/2313 [==============================] - 106s 46ms/step - loss: 0.5086 - accuracy: 0.8012 - val_loss: 0.3295 - val_accuracy: 0.8910\n",
      "Epoch 2/2\n",
      "2313/2313 [==============================] - 103s 45ms/step - loss: 0.4854 - accuracy: 0.8099 - val_loss: 0.2952 - val_accuracy: 0.9020\n"
     ]
    }
   ],
   "source": [
    "# Train again for antoher 2 epoch\n",
    "result_new = model_new.fit(\n",
    "          epochs=2,\n",
    "          x=df_train_model['tweet'].values,\n",
    "          y=df_train_model['sentiment'].values,\n",
    "          batch_size=32,\n",
    "          validation_data=(df_val_model['tweet'].values,\n",
    "                           df_val_model['sentiment'].values)\n",
    ")"
   ]
  },
  {
   "cell_type": "code",
   "execution_count": 27,
   "id": "bc2b8536-501d-4d58-bbe3-40bfedd592e5",
   "metadata": {
    "tags": []
   },
   "outputs": [
    {
     "name": "stdout",
     "output_type": "stream",
     "text": [
      "Epoch 1/2\n",
      "2313/2313 [==============================] - 101s 44ms/step - loss: 0.4625 - accuracy: 0.8201 - val_loss: 0.2800 - val_accuracy: 0.9120\n",
      "Epoch 2/2\n",
      "2313/2313 [==============================] - 104s 45ms/step - loss: 0.4479 - accuracy: 0.8241 - val_loss: 0.2818 - val_accuracy: 0.9100\n"
     ]
    }
   ],
   "source": [
    "# Train again for antoher 2 epoch\n",
    "result_new = model_new.fit(\n",
    "          epochs=2,\n",
    "          x=df_train_model['tweet'].values,\n",
    "          y=df_train_model['sentiment'].values,\n",
    "          batch_size=32,\n",
    "          validation_data=(df_val_model['tweet'].values,\n",
    "                           df_val_model['sentiment'].values)\n",
    ")"
   ]
  },
  {
   "cell_type": "markdown",
   "id": "b2132ed3-ea41-482d-b1f2-c1c1f9ccaeb7",
   "metadata": {},
   "source": [
    "We can stop here.  \n",
    "Kenapa? Karena dilihat loss training mengecil, tetapi loss validation mulai membesar"
   ]
  },
  {
   "cell_type": "code",
   "execution_count": null,
   "id": "3861213d-cef6-4e2c-96be-50f1bcb91594",
   "metadata": {},
   "outputs": [],
   "source": []
  }
 ],
 "metadata": {
  "kernelspec": {
   "display_name": "Python 3 (ipykernel)",
   "language": "python",
   "name": "python3"
  },
  "language_info": {
   "codemirror_mode": {
    "name": "ipython",
    "version": 3
   },
   "file_extension": ".py",
   "mimetype": "text/x-python",
   "name": "python",
   "nbconvert_exporter": "python",
   "pygments_lexer": "ipython3",
   "version": "3.10.9"
  }
 },
 "nbformat": 4,
 "nbformat_minor": 5
}
