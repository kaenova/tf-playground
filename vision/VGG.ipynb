{
 "cells": [
  {
   "cell_type": "code",
   "execution_count": 3,
   "id": "da74edff-1220-402d-8bd0-266bfff7458a",
   "metadata": {
    "tags": []
   },
   "outputs": [],
   "source": [
    "import tensorflow as tf\n",
    "import tensorflow_hub as hub"
   ]
  },
  {
   "cell_type": "code",
   "execution_count": 4,
   "id": "162c704a-56e4-43ed-8b91-0d34c79aff2e",
   "metadata": {
    "tags": []
   },
   "outputs": [],
   "source": [
    "model = hub.KerasLayer(\"https://tfhub.dev/google/efficientnet/b6/feature-vector/1\")"
   ]
  },
  {
   "cell_type": "code",
   "execution_count": 8,
   "id": "4851bbdc-5016-44b8-b68e-96d2989cdbb7",
   "metadata": {},
   "outputs": [
    {
     "data": {
      "text/plain": [
       "TensorShape([1, 528, 528, 3])"
      ]
     },
     "execution_count": 8,
     "metadata": {},
     "output_type": "execute_result"
    }
   ],
   "source": [
    "x_dummy = tf.random.uniform((1,528,528,3), minval=0, maxval=1)\n",
    "x_dummy.shape"
   ]
  },
  {
   "cell_type": "code",
   "execution_count": 10,
   "id": "27e479c2-8bf2-497c-9338-98f06ee7ef03",
   "metadata": {
    "tags": []
   },
   "outputs": [
    {
     "data": {
      "text/plain": [
       "TensorShape([1, 2304])"
      ]
     },
     "execution_count": 10,
     "metadata": {},
     "output_type": "execute_result"
    }
   ],
   "source": [
    "logits = model(x_dummy)\n",
    "logits.shape"
   ]
  },
  {
   "cell_type": "code",
   "execution_count": null,
   "id": "a0525a8e-852b-4191-8e36-a3cf92597b52",
   "metadata": {},
   "outputs": [],
   "source": []
  }
 ],
 "metadata": {
  "kernelspec": {
   "display_name": "Python 3 (ipykernel)",
   "language": "python",
   "name": "python3"
  },
  "language_info": {
   "codemirror_mode": {
    "name": "ipython",
    "version": 3
   },
   "file_extension": ".py",
   "mimetype": "text/x-python",
   "name": "python",
   "nbconvert_exporter": "python",
   "pygments_lexer": "ipython3",
   "version": "3.10.9"
  }
 },
 "nbformat": 4,
 "nbformat_minor": 5
}
