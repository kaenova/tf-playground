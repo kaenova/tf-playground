{
 "cells": [
  {
   "cell_type": "code",
   "execution_count": 40,
   "id": "da74edff-1220-402d-8bd0-266bfff7458a",
   "metadata": {
    "tags": []
   },
   "outputs": [],
   "source": [
    "# Load library\n",
    "import datetime\n",
    "import pandas as pd\n",
    "import tensorflow as tf\n",
    "import tensorflow_hub as hub\n",
    "import tensorflow_text as tf_text\n",
    "from matplotlib import pyplot as plt\n",
    "\n",
    "\n",
    "# Load constants\n",
    "DATA_PATH = \"data/hand-sign-images\"\n",
    "TENSORBOARD_PATH = \"tensorboard\""
   ]
  },
  {
   "cell_type": "code",
   "execution_count": 41,
   "id": "62c0c4f9-13cf-455d-96a2-23761eabdae2",
   "metadata": {
    "tags": []
   },
   "outputs": [
    {
     "data": {
      "text/plain": [
       "'2.10.0'"
      ]
     },
     "execution_count": 41,
     "metadata": {},
     "output_type": "execute_result"
    }
   ],
   "source": [
    "tf.__version__"
   ]
  },
  {
   "cell_type": "markdown",
   "id": "fe113528-506a-405a-9fc0-8b60eaccc1da",
   "metadata": {},
   "source": [
    "# Checking Data"
   ]
  },
  {
   "cell_type": "code",
   "execution_count": 42,
   "id": "a60a1138-cbd7-4c27-bf06-05cb52d1148c",
   "metadata": {},
   "outputs": [
    {
     "name": "stdout",
     "output_type": "stream",
     "text": [
      "Folder PATH listing for volume Program and Files\n",
      "Volume serial number is 081B-4D30\n",
      "D:.\n",
      "+---.ipynb_checkpoints\n",
      "\\---data\n",
      "    +---.ipynb_checkpoints\n",
      "    \\---hand-sign-images\n",
      "        +---Test\n",
      "        |   +---A\n",
      "        |   +---B\n",
      "        |   +---C\n",
      "        |   +---D\n",
      "        |   +---E\n",
      "        |   +---F\n",
      "        |   +---G\n",
      "        |   +---H\n",
      "        |   +---I\n",
      "        |   +---K\n",
      "        |   +---L\n",
      "        |   +---M\n",
      "        |   +---N\n",
      "        |   +---O\n",
      "        |   +---P\n",
      "        |   +---Q\n",
      "        |   +---R\n",
      "        |   +---S\n",
      "        |   +---T\n",
      "        |   +---U\n",
      "        |   +---V\n",
      "        |   +---W\n",
      "        |   +---X\n",
      "        |   \\---Y\n",
      "        \\---Train\n",
      "            +---A\n",
      "            +---B\n",
      "            +---C\n",
      "            +---D\n",
      "            +---E\n",
      "            +---F\n",
      "            +---G\n",
      "            +---H\n",
      "            +---I\n",
      "            +---K\n",
      "            +---L\n",
      "            +---M\n",
      "            +---N\n",
      "            +---O\n",
      "            +---P\n",
      "            +---Q\n",
      "            +---R\n",
      "            +---S\n",
      "            +---T\n",
      "            +---U\n",
      "            +---V\n",
      "            +---W\n",
      "            +---X\n",
      "            \\---Y\n"
     ]
    }
   ],
   "source": [
    "!tree /a"
   ]
  },
  {
   "cell_type": "code",
   "execution_count": 43,
   "id": "e5639d70-b214-43f4-a482-65d15ae64aa8",
   "metadata": {
    "tags": []
   },
   "outputs": [
    {
     "name": "stdout",
     "output_type": "stream",
     "text": [
      "Found 27455 files belonging to 24 classes.\n",
      "Found 7172 files belonging to 24 classes.\n"
     ]
    }
   ],
   "source": [
    "dataset_train_augmented = tf.keras.utils.image_dataset_from_directory(\n",
    "    directory=f\"{DATA_PATH}/Train\",\n",
    "    color_mode='grayscale',\n",
    "    label_mode='categorical',\n",
    "    batch_size=32,\n",
    "    image_size=(28, 28),\n",
    "    seed=2023,\n",
    ")\n",
    "dataset_test = tf.keras.utils.image_dataset_from_directory(\n",
    "    directory=f\"{DATA_PATH}/Test\",\n",
    "    color_mode='grayscale',\n",
    "    label_mode='categorical',\n",
    "    batch_size=32,\n",
    "    image_size=(28, 28),\n",
    "    seed=2023,\n",
    ")\n",
    "\n",
    "# data_augmentation_layers = tf.keras.Sequential(\n",
    "#     [\n",
    "#         tf.keras.layers.RandomFlip(\"horizontal\"),\n",
    "#         tf.keras.layers.RandomRotation(0.1),\n",
    "#         tf.keras.layers.RandomZoom(0.1),\n",
    "#     ]\n",
    "# )\n",
    "\n",
    "# dataset_train_augmented = dataset_train_augmented\\\n",
    "#                             .map(lambda x, y: (data_augmentation_layers(x), y))"
   ]
  },
  {
   "cell_type": "markdown",
   "id": "97164b4f-e705-4859-9a80-6d5fec63ad4a",
   "metadata": {
    "tags": []
   },
   "source": [
    "# Modelling!"
   ]
  },
  {
   "cell_type": "code",
   "execution_count": 46,
   "id": "4851bbdc-5016-44b8-b68e-96d2989cdbb7",
   "metadata": {},
   "outputs": [],
   "source": [
    "tf.keras.backend.clear_session()\n",
    "model = tf.keras.Sequential([\n",
    "    tf.keras.layers.Input(shape=(28,28,1), dtype=tf.float32),\n",
    "    tf.keras.layers.Conv2D(16, (3,3)),\n",
    "    tf.keras.layers.MaxPool2D(),\n",
    "    tf.keras.layers.Flatten(),\n",
    "    tf.keras.layers.Dense(512, activation=\"relu\"),\n",
    "    tf.keras.layers.Dense(256, activation=\"relu\"),\n",
    "    tf.keras.layers.Dense(256, activation=\"relu\"),\n",
    "    tf.keras.layers.Dense(24)\n",
    "])\n",
    "\n",
    "loss = tf.keras.losses.CategoricalCrossentropy(\n",
    "    from_logits=True,\n",
    ")\n",
    "\n",
    "optim = tf.keras.optimizers.Adam(\n",
    "    learning_rate=1e-4\n",
    ")\n",
    "\n",
    "model.compile(\n",
    "    optimizer=optim,\n",
    "    loss=loss,\n",
    "    metrics=['accuracy']\n",
    ")"
   ]
  },
  {
   "cell_type": "code",
   "execution_count": 47,
   "id": "953f05d8-3635-4b5d-9959-a4a503632da0",
   "metadata": {
    "tags": []
   },
   "outputs": [
    {
     "name": "stdout",
     "output_type": "stream",
     "text": [
      "Epoch 1/5\n",
      "858/858 [==============================] - 16s 18ms/step - loss: 2.9837 - accuracy: 0.4994 - val_loss: 1.6117 - val_accuracy: 0.5788\n",
      "Epoch 2/5\n",
      "858/858 [==============================] - 16s 18ms/step - loss: 0.5409 - accuracy: 0.8270 - val_loss: 1.3788 - val_accuracy: 0.6877\n",
      "Epoch 3/5\n",
      "858/858 [==============================] - 16s 18ms/step - loss: 0.2158 - accuracy: 0.9311 - val_loss: 1.0004 - val_accuracy: 0.7341\n",
      "Epoch 4/5\n",
      "858/858 [==============================] - 16s 18ms/step - loss: 0.0878 - accuracy: 0.9760 - val_loss: 1.2974 - val_accuracy: 0.6992\n",
      "Epoch 5/5\n",
      "858/858 [==============================] - 17s 20ms/step - loss: 0.0528 - accuracy: 0.9846 - val_loss: 0.8497 - val_accuracy: 0.8065\n"
     ]
    },
    {
     "data": {
      "text/plain": [
       "<keras.callbacks.History at 0x25496569390>"
      ]
     },
     "execution_count": 47,
     "metadata": {},
     "output_type": "execute_result"
    }
   ],
   "source": [
    "model.fit(\n",
    "    x=dataset_train_augmented,\n",
    "    validation_data=dataset_test,\n",
    "    epochs=5\n",
    ")"
   ]
  },
  {
   "cell_type": "code",
   "execution_count": 48,
   "id": "bdb27a72-433a-4abb-ab3c-64ef16c01615",
   "metadata": {
    "tags": []
   },
   "outputs": [
    {
     "name": "stdout",
     "output_type": "stream",
     "text": [
      "Epoch 1/5\n",
      "858/858 [==============================] - 16s 18ms/step - loss: 0.1035 - accuracy: 0.9702 - val_loss: 0.7925 - val_accuracy: 0.8144\n",
      "Epoch 2/5\n",
      "858/858 [==============================] - 16s 19ms/step - loss: 0.0037 - accuracy: 1.0000 - val_loss: 0.7955 - val_accuracy: 0.8027\n",
      "Epoch 3/5\n",
      "858/858 [==============================] - 16s 19ms/step - loss: 0.0631 - accuracy: 0.9827 - val_loss: 0.7370 - val_accuracy: 0.8264\n",
      "Epoch 4/5\n",
      "858/858 [==============================] - 16s 19ms/step - loss: 0.0018 - accuracy: 1.0000 - val_loss: 0.7713 - val_accuracy: 0.8253\n",
      "Epoch 5/5\n",
      "858/858 [==============================] - 16s 18ms/step - loss: 0.0362 - accuracy: 0.9899 - val_loss: 0.8815 - val_accuracy: 0.8126\n"
     ]
    },
    {
     "data": {
      "text/plain": [
       "<keras.callbacks.History at 0x254a6e86fe0>"
      ]
     },
     "execution_count": 48,
     "metadata": {},
     "output_type": "execute_result"
    }
   ],
   "source": [
    "model.fit(\n",
    "    x=dataset_train_augmented,\n",
    "    validation_data=dataset_test,\n",
    "    epochs=5\n",
    ")"
   ]
  },
  {
   "cell_type": "code",
   "execution_count": 49,
   "id": "fbe71713-bdaf-478c-ba97-e283c962b5e0",
   "metadata": {
    "tags": []
   },
   "outputs": [
    {
     "name": "stdout",
     "output_type": "stream",
     "text": [
      "Epoch 1/5\n",
      "858/858 [==============================] - 16s 19ms/step - loss: 9.3114e-04 - accuracy: 1.0000 - val_loss: 0.8765 - val_accuracy: 0.8197\n",
      "Epoch 2/5\n",
      "858/858 [==============================] - 16s 18ms/step - loss: 5.1782e-04 - accuracy: 1.0000 - val_loss: 0.8964 - val_accuracy: 0.8200\n",
      "Epoch 3/5\n",
      "858/858 [==============================] - 16s 19ms/step - loss: 3.3011e-04 - accuracy: 1.0000 - val_loss: 0.9068 - val_accuracy: 0.8264\n",
      "Epoch 4/5\n",
      "858/858 [==============================] - 15s 18ms/step - loss: 0.0424 - accuracy: 0.9889 - val_loss: 1.0465 - val_accuracy: 0.7659\n",
      "Epoch 5/5\n",
      "858/858 [==============================] - 17s 20ms/step - loss: 0.0033 - accuracy: 0.9996 - val_loss: 0.9841 - val_accuracy: 0.8134\n"
     ]
    },
    {
     "data": {
      "text/plain": [
       "<keras.callbacks.History at 0x2549170ed10>"
      ]
     },
     "execution_count": 49,
     "metadata": {},
     "output_type": "execute_result"
    }
   ],
   "source": [
    "model.fit(\n",
    "    x=dataset_train_augmented,\n",
    "    validation_data=dataset_test,\n",
    "    epochs=5\n",
    ")"
   ]
  },
  {
   "cell_type": "code",
   "execution_count": 69,
   "id": "4bf7cb75-6dce-4f26-b118-58033e2d0f43",
   "metadata": {
    "tags": []
   },
   "outputs": [
    {
     "name": "stdout",
     "output_type": "stream",
     "text": [
      "(28, 28, 1)\n"
     ]
    },
    {
     "data": {
      "image/png": "[encoded data removed]",
      "text/plain": [
       "<Figure size 640x480 with 1 Axes>"
      ]
     },
     "metadata": {},
     "output_type": "display_data"
    }
   ],
   "source": [
    "dummy_data = None\n",
    "for image, label in dataset_test.take(1):\n",
    "    print(image[20].shape)\n",
    "    plt.imshow(image[20])    \n",
    "    dummy_data = image[20]"
   ]
  },
  {
   "cell_type": "code",
   "execution_count": 58,
   "id": "7497fd5f-2df0-4d33-b90a-69264389c009",
   "metadata": {
    "tags": []
   },
   "outputs": [],
   "source": [
    "model.save('handsign_model_v1.h5')"
   ]
  },
  {
   "cell_type": "code",
   "execution_count": 59,
   "id": "82a73c2d-d7ca-48c5-be88-d2ece485117a",
   "metadata": {
    "tags": []
   },
   "outputs": [],
   "source": [
    "loaded_model = tf.keras.models.load_model('handsign_model_v1.h5')"
   ]
  },
  {
   "cell_type": "code",
   "execution_count": 72,
   "id": "3d980012-0b1c-478b-a0fb-6675ae7b31ce",
   "metadata": {
    "tags": []
   },
   "outputs": [
    {
     "data": {
      "text/plain": [
       "TensorShape([28, 28, 1])"
      ]
     },
     "execution_count": 72,
     "metadata": {},
     "output_type": "execute_result"
    }
   ],
   "source": [
    "dummy_data.shape"
   ]
  },
  {
   "cell_type": "code",
   "execution_count": 76,
   "id": "afc0a482-39c1-4385-88c8-bf7f7ee6ae5e",
   "metadata": {
    "tags": []
   },
   "outputs": [
    {
     "data": {
      "text/plain": [
       "TensorShape([1, 28, 28, 1])"
      ]
     },
     "execution_count": 76,
     "metadata": {},
     "output_type": "execute_result"
    }
   ],
   "source": [
    "new_dummy = tf.expand_dims(dummy_data, 0)\n",
    "new_dummy.shape"
   ]
  },
  {
   "cell_type": "code",
   "execution_count": 81,
   "id": "a631d939-b89c-4989-807a-922bf152babf",
   "metadata": {
    "tags": []
   },
   "outputs": [
    {
     "data": {
      "text/plain": [
       "20"
      ]
     },
     "execution_count": 81,
     "metadata": {},
     "output_type": "execute_result"
    }
   ],
   "source": [
    "tf.argmax(loaded_model(new_dummy)[0]).numpy()"
   ]
  },
  {
   "cell_type": "code",
   "execution_count": 82,
   "id": "181807bb-9e9d-424d-a8f0-0e6198fd6434",
   "metadata": {
    "tags": []
   },
   "outputs": [
    {
     "data": {
      "text/plain": [
       "20"
      ]
     },
     "execution_count": 82,
     "metadata": {},
     "output_type": "execute_result"
    }
   ],
   "source": [
    "def predict(gambar):\n",
    "    loaded_model = tf.keras.models.load_model('handsign_model_v1.h5')\n",
    "    gambar = tf.expand_dims(gambar, 0)\n",
    "    return tf.argmax(loaded_model(gambar)[0]).numpy()\n",
    "\n",
    "predict(dummy_data)"
   ]
  },
  {
   "cell_type": "code",
   "execution_count": 85,
   "id": "7c40b340-880e-4d2e-911e-214cceedb2de",
   "metadata": {
    "tags": []
   },
   "outputs": [
    {
     "name": "stderr",
     "output_type": "stream",
     "text": [
      "WARNING:absl:Found untraced functions such as _jit_compiled_convolution_op while saving (showing 1 of 1). These functions will not be directly callable after loading.\n"
     ]
    },
    {
     "name": "stdout",
     "output_type": "stream",
     "text": [
      "INFO:tensorflow:Assets written to: handsign_model_v1\\assets\n"
     ]
    },
    {
     "name": "stderr",
     "output_type": "stream",
     "text": [
      "INFO:tensorflow:Assets written to: handsign_model_v1\\assets\n"
     ]
    }
   ],
   "source": [
    "model.save('handsign_model_v1')"
   ]
  },
  {
   "cell_type": "code",
   "execution_count": 86,
   "id": "a2b86bd1-3baa-4b29-9f06-29cec71cd47f",
   "metadata": {},
   "outputs": [],
   "source": [
    "import tensorflow as tf\n",
    "\n",
    "# Convert the model\n",
    "converter = tf.lite.TFLiteConverter.from_saved_model(\"handsign_model_v1\") # path to the SavedModel directory\n",
    "tflite_model = converter.convert()\n",
    "\n",
    "# Save the model.\n",
    "with open('model.tflite', 'wb') as f:\n",
    "    f.write(tflite_model)"
   ]
  },
  {
   "cell_type": "code",
   "execution_count": 96,
   "id": "84169c9f-7a8b-4fb2-8261-98436c669615",
   "metadata": {
    "tags": []
   },
   "outputs": [],
   "source": [
    "dummy_data = tf.random.uniform((1, 28,28,1))"
   ]
  },
  {
   "cell_type": "code",
   "execution_count": 98,
   "id": "292ec536-943f-4546-817e-8326d82b12a2",
   "metadata": {
    "tags": []
   },
   "outputs": [
    {
     "data": {
      "text/plain": [
       "<tf.Tensor: shape=(1, 24), dtype=float32, numpy=\n",
       "array([[-0.20794019,  0.32682323, -0.03449662, -0.15533367, -0.14991315,\n",
       "        -0.27794686, -0.00388204, -0.23991324, -0.13797812, -0.40547386,\n",
       "        -0.05776571, -0.19742754, -0.00073598, -0.1753308 ,  0.22674927,\n",
       "         0.30690163,  0.03358587,  0.14431922, -0.13683634,  0.2622833 ,\n",
       "         0.09091446, -0.02990573,  0.00069838,  0.06391816]],\n",
       "      dtype=float32)>"
      ]
     },
     "execution_count": 98,
     "metadata": {},
     "output_type": "execute_result"
    }
   ],
   "source": [
    "loaded_model(dummy_data)"
   ]
  },
  {
   "cell_type": "code",
   "execution_count": 100,
   "id": "1767f551-ee24-454b-b7bf-3b40ee89f306",
   "metadata": {
    "tags": []
   },
   "outputs": [
    {
     "name": "stdout",
     "output_type": "stream",
     "text": [
      "[[-0.20794013  0.3268233  -0.03449665 -0.15533364 -0.14991315 -0.27794662\n",
      "  -0.00388189 -0.23991324 -0.1379782  -0.40547395 -0.05776555 -0.19742745\n",
      "  -0.00073609 -0.17533079  0.22674952  0.30690154  0.03358589  0.1443193\n",
      "  -0.13683632  0.26228327  0.09091452 -0.02990577  0.0006986   0.06391824]]\n"
     ]
    }
   ],
   "source": [
    "# Load the TFLite model in TFLite Interpreter\n",
    "interpreter = tf.lite.Interpreter(\"model.tflite\")\n",
    "# There is only 1 signature defined in the model,\n",
    "# so it will return it by default.\n",
    "# If there are multiple signatures then we can pass the name.\n",
    "my_signature = interpreter.get_signature_runner()\n",
    "\n",
    "# my_signature is callable with input as arguments.\n",
    "output = my_signature(input_1=dummy_data)\n",
    "# 'output' is dictionary with all outputs from the inference.\n",
    "# In this case we have single output 'result'.\n",
    "print(output['dense_3'])"
   ]
  },
  {
   "cell_type": "code",
   "execution_count": 91,
   "id": "a66b0b34-8360-4cb0-ad51-cfe877a532f4",
   "metadata": {
    "tags": []
   },
   "outputs": [
    {
     "data": {
      "text/plain": [
       "{'serving_default': {'inputs': ['input_1'], 'outputs': ['dense_3']}}"
      ]
     },
     "execution_count": 91,
     "metadata": {},
     "output_type": "execute_result"
    }
   ],
   "source": [
    "interpreter._signature_defs"
   ]
  }
 ],
 "metadata": {
  "kernelspec": {
   "display_name": "Python 3 (ipykernel)",
   "language": "python",
   "name": "python3"
  },
  "language_info": {
   "codemirror_mode": {
    "name": "ipython",
    "version": 3
   },
   "file_extension": ".py",
   "mimetype": "text/x-python",
   "name": "python",
   "nbconvert_exporter": "python",
   "pygments_lexer": "ipython3",
   "version": "3.10.9"
  }
 },
 "nbformat": 4,
 "nbformat_minor": 5
}
