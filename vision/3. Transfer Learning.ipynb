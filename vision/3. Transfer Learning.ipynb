{
 "cells": [
  {
   "cell_type": "code",
   "execution_count": 2,
   "id": "da74edff-1220-402d-8bd0-266bfff7458a",
   "metadata": {
    "tags": []
   },
   "outputs": [],
   "source": [
    "# Load library\n",
    "import datetime\n",
    "import pandas as pd\n",
    "import tensorflow as tf\n",
    "import tensorflow_hub as hub\n",
    "from matplotlib import pyplot as plt\n",
    "\n",
    "\n",
    "# Load constants\n",
    "DATA_PATH = \"data/hand-sign-images\"\n",
    "TENSORBOARD_PATH = \"tensorboard\""
   ]
  },
  {
   "cell_type": "code",
   "execution_count": 3,
   "id": "62c0c4f9-13cf-455d-96a2-23761eabdae2",
   "metadata": {
    "tags": []
   },
   "outputs": [
    {
     "data": {
      "text/plain": [
       "'2.10.0'"
      ]
     },
     "execution_count": 3,
     "metadata": {},
     "output_type": "execute_result"
    }
   ],
   "source": [
    "tf.__version__"
   ]
  },
  {
   "cell_type": "markdown",
   "id": "fe113528-506a-405a-9fc0-8b60eaccc1da",
   "metadata": {},
   "source": [
    "# Checking Data"
   ]
  },
  {
   "cell_type": "code",
   "execution_count": 4,
   "id": "a60a1138-cbd7-4c27-bf06-05cb52d1148c",
   "metadata": {},
   "outputs": [
    {
     "name": "stdout",
     "output_type": "stream",
     "text": [
      "Folder PATH listing for volume Program and Files\n",
      "Volume serial number is 081B-4D30\n",
      "D:.\n",
      "+---.ipynb_checkpoints\n",
      "+---data\n",
      "|   +---.ipynb_checkpoints\n",
      "|   \\---hand-sign-images\n",
      "|       +---Test\n",
      "|       |   +---A\n",
      "|       |   +---B\n",
      "|       |   +---C\n",
      "|       |   +---D\n",
      "|       |   +---E\n",
      "|       |   +---F\n",
      "|       |   +---G\n",
      "|       |   +---H\n",
      "|       |   +---I\n",
      "|       |   +---K\n",
      "|       |   +---L\n",
      "|       |   +---M\n",
      "|       |   +---N\n",
      "|       |   +---O\n",
      "|       |   +---P\n",
      "|       |   +---Q\n",
      "|       |   +---R\n",
      "|       |   +---S\n",
      "|       |   +---T\n",
      "|       |   +---U\n",
      "|       |   +---V\n",
      "|       |   +---W\n",
      "|       |   +---X\n",
      "|       |   \\---Y\n",
      "|       \\---Train\n",
      "|           +---A\n",
      "|           +---B\n",
      "|           +---C\n",
      "|           +---D\n",
      "|           +---E\n",
      "|           +---F\n",
      "|           +---G\n",
      "|           +---H\n",
      "|           +---I\n",
      "|           +---K\n",
      "|           +---L\n",
      "|           +---M\n",
      "|           +---N\n",
      "|           +---O\n",
      "|           +---P\n",
      "|           +---Q\n",
      "|           +---R\n",
      "|           +---S\n",
      "|           +---T\n",
      "|           +---U\n",
      "|           +---V\n",
      "|           +---W\n",
      "|           +---X\n",
      "|           \\---Y\n",
      "\\---handsign_model_v1\n",
      "    +---assets\n",
      "    \\---variables\n"
     ]
    }
   ],
   "source": [
    "!tree /a"
   ]
  },
  {
   "cell_type": "markdown",
   "id": "0b332d48-1481-4092-82d4-209ec1efeb17",
   "metadata": {},
   "source": [
    "# Check available Model and its Specification"
   ]
  },
  {
   "attachments": {
    "37da8606-8f20-44b2-bd5c-a980584736e8.png": {
     "image/png": "[encoded data removed]"
    }
   },
   "cell_type": "markdown",
   "id": "51327dd7-2609-42f0-8b12-e34dc3fe2f6a",
   "metadata": {},
   "source": [
    "We're going to use https://tfhub.dev/emilutz/vgg19-block4-conv2-unpooling-encoder/1\n",
    "\n",
    "![image.png](attachment:37da8606-8f20-44b2-bd5c-a980584736e8.png)  \n",
    "\n",
    "Thus, we're going to process the data as the model spec"
   ]
  },
  {
   "cell_type": "code",
   "execution_count": 40,
   "id": "e5639d70-b214-43f4-a482-65d15ae64aa8",
   "metadata": {
    "tags": []
   },
   "outputs": [
    {
     "name": "stdout",
     "output_type": "stream",
     "text": [
      "Found 27455 files belonging to 24 classes.\n",
      "Found 7172 files belonging to 24 classes.\n"
     ]
    }
   ],
   "source": [
    "dataset_train = tf.keras.utils.image_dataset_from_directory(\n",
    "    directory=f\"{DATA_PATH}/Train\",\n",
    "    color_mode='rgb',\n",
    "    label_mode='categorical',\n",
    "    batch_size=32,\n",
    "    image_size=(32, 32),\n",
    "    seed=2023,\n",
    ")\n",
    "dataset_test = tf.keras.utils.image_dataset_from_directory(\n",
    "    directory=f\"{DATA_PATH}/Test\",\n",
    "    color_mode='rgb',\n",
    "    label_mode='categorical',\n",
    "    batch_size=32,\n",
    "    image_size=(32, 32),\n",
    "    seed=2023,\n",
    ")"
   ]
  },
  {
   "cell_type": "markdown",
   "id": "97164b4f-e705-4859-9a80-6d5fec63ad4a",
   "metadata": {
    "tags": []
   },
   "source": [
    "# Modelling!"
   ]
  },
  {
   "cell_type": "code",
   "execution_count": 41,
   "id": "9965f34e-945f-4c35-a13f-f98baaa48098",
   "metadata": {
    "tags": []
   },
   "outputs": [],
   "source": [
    "test_encoder = hub.KerasLayer('https://tfhub.dev/emilutz/vgg19-block4-conv2-unpooling-encoder/1')"
   ]
  },
  {
   "cell_type": "code",
   "execution_count": 42,
   "id": "c667c881-55c0-4502-8215-bb7ce081f1f3",
   "metadata": {
    "tags": []
   },
   "outputs": [
    {
     "name": "stdout",
     "output_type": "stream",
     "text": [
      "(32, 32, 32, 3)\n"
     ]
    },
    {
     "data": {
      "text/plain": [
       "TensorShape([32, 4, 4, 512])"
      ]
     },
     "execution_count": 42,
     "metadata": {},
     "output_type": "execute_result"
    }
   ],
   "source": [
    "data_dummy = dataset_train.take(1)\n",
    "data_dummy = list(data_dummy.as_numpy_iterator())\n",
    "img = data_dummy[0][0]\n",
    "print(img.shape)\n",
    "[logits, b1_indices, b2_indices, b3_indices] = test_encoder(img)\n",
    "logits.shape"
   ]
  },
  {
   "cell_type": "code",
   "execution_count": 47,
   "id": "78e428f2-22ea-4427-b072-fb19e35014e1",
   "metadata": {
    "tags": []
   },
   "outputs": [],
   "source": [
    "tf.keras.backend.clear_session()\n",
    "\n",
    "def create_model():\n",
    "    inputs = tf.keras.layers.Input((32,32,3), dtype=tf.float32)\n",
    "    [x, _, _, _] = hub.KerasLayer('https://tfhub.dev/emilutz/vgg19-block4-conv2-unpooling-encoder/1', trainable=False)(inputs)\n",
    "    x = tf.keras.layers.Flatten()(x)\n",
    "    outputs = tf.keras.layers.Dense(24)(x)\n",
    "\n",
    "    model = tf.keras.models.Model(inputs=inputs, outputs=outputs)\n",
    "    return model\n",
    "\n",
    "model = create_model()\n",
    "\n",
    "loss = tf.keras.losses.CategoricalCrossentropy(\n",
    "    from_logits=True,\n",
    ")\n",
    "\n",
    "optim = tf.keras.optimizers.Adam(\n",
    "    learning_rate=1e-4\n",
    ")\n",
    "\n",
    "model.compile(\n",
    "    optimizer=optim,\n",
    "    loss=loss,\n",
    "    metrics=['accuracy']\n",
    ")"
   ]
  },
  {
   "cell_type": "code",
   "execution_count": 48,
   "id": "953f05d8-3635-4b5d-9959-a4a503632da0",
   "metadata": {
    "tags": []
   },
   "outputs": [
    {
     "name": "stdout",
     "output_type": "stream",
     "text": [
      "Epoch 1/4\n",
      "858/858 [==============================] - 81s 93ms/step - loss: 58.3899 - accuracy: 0.8857 - val_loss: 15.1948 - val_accuracy: 0.9501\n",
      "Epoch 2/4\n",
      "858/858 [==============================] - 81s 94ms/step - loss: 3.2570 - accuracy: 0.9811 - val_loss: 12.9713 - val_accuracy: 0.9499\n",
      "Epoch 3/4\n",
      "858/858 [==============================] - 84s 98ms/step - loss: 1.8344 - accuracy: 0.9903 - val_loss: 12.6440 - val_accuracy: 0.9576\n",
      "Epoch 4/4\n",
      "858/858 [==============================] - 81s 94ms/step - loss: 2.7822 - accuracy: 0.9883 - val_loss: 11.2645 - val_accuracy: 0.9685\n"
     ]
    },
    {
     "data": {
      "text/plain": [
       "<keras.callbacks.History at 0x1bf40f35180>"
      ]
     },
     "execution_count": 48,
     "metadata": {},
     "output_type": "execute_result"
    }
   ],
   "source": [
    "model.fit(\n",
    "    x=dataset_train,\n",
    "    validation_data=dataset_test,\n",
    "    epochs=4\n",
    ")"
   ]
  },
  {
   "cell_type": "code",
   "execution_count": 49,
   "id": "09757552-c196-4d47-8e47-7480457d5517",
   "metadata": {
    "tags": []
   },
   "outputs": [
    {
     "name": "stdout",
     "output_type": "stream",
     "text": [
      "Epoch 1/2\n",
      "858/858 [==============================] - 80s 94ms/step - loss: 1.8956 - accuracy: 0.9925 - val_loss: 4.1215 - val_accuracy: 0.9833\n",
      "Epoch 2/2\n",
      "858/858 [==============================] - 80s 93ms/step - loss: 2.2964 - accuracy: 0.9925 - val_loss: 21.0171 - val_accuracy: 0.9640\n"
     ]
    },
    {
     "data": {
      "text/plain": [
       "<keras.callbacks.History at 0x1bf40fa03a0>"
      ]
     },
     "execution_count": 49,
     "metadata": {},
     "output_type": "execute_result"
    }
   ],
   "source": [
    "model.fit(\n",
    "    x=dataset_train,\n",
    "    validation_data=dataset_test,\n",
    "    epochs=2\n",
    ")"
   ]
  },
  {
   "cell_type": "code",
   "execution_count": 52,
   "id": "7497fd5f-2df0-4d33-b90a-69264389c009",
   "metadata": {
    "tags": []
   },
   "outputs": [
    {
     "name": "stdout",
     "output_type": "stream",
     "text": [
      "INFO:tensorflow:Assets written to: handsign_model_transfer_learning_v1\\assets\n"
     ]
    },
    {
     "name": "stderr",
     "output_type": "stream",
     "text": [
      "INFO:tensorflow:Assets written to: handsign_model_transfer_learning_v1\\assets\n"
     ]
    }
   ],
   "source": [
    "model.save('handsign_model_transfer_learning_v1')"
   ]
  },
  {
   "cell_type": "code",
   "execution_count": 53,
   "id": "82a73c2d-d7ca-48c5-be88-d2ece485117a",
   "metadata": {
    "tags": []
   },
   "outputs": [],
   "source": [
    "loaded_model = tf.keras.models.load_model('handsign_model_transfer_learning_v1')"
   ]
  },
  {
   "cell_type": "code",
   "execution_count": 55,
   "id": "547c0e2e-3ce7-46ff-8097-497a89cc9b3f",
   "metadata": {
    "tags": []
   },
   "outputs": [
    {
     "data": {
      "text/plain": [
       "TensorShape([32, 24])"
      ]
     },
     "execution_count": 55,
     "metadata": {},
     "output_type": "execute_result"
    }
   ],
   "source": [
    "loaded_model(img).shape"
   ]
  }
 ],
 "metadata": {
  "kernelspec": {
   "display_name": "Python 3 (ipykernel)",
   "language": "python",
   "name": "python3"
  },
  "language_info": {
   "codemirror_mode": {
    "name": "ipython",
    "version": 3
   },
   "file_extension": ".py",
   "mimetype": "text/x-python",
   "name": "python",
   "nbconvert_exporter": "python",
   "pygments_lexer": "ipython3",
   "version": "3.10.9"
  }
 },
 "nbformat": 4,
 "nbformat_minor": 5
}
